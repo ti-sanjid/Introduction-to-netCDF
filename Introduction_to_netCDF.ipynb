{
  "nbformat": 4,
  "nbformat_minor": 0,
  "metadata": {
    "colab": {
      "provenance": [],
      "mount_file_id": "1bHaW240RlOf0rbOiyAqaN6UB2xsZpL7k",
      "authorship_tag": "ABX9TyNzjveLt5WQmrObFhpXHbZI",
      "include_colab_link": true
    },
    "kernelspec": {
      "name": "python3",
      "display_name": "Python 3"
    },
    "language_info": {
      "name": "python"
    }
  },
  "cells": [
    {
      "cell_type": "markdown",
      "metadata": {
        "id": "view-in-github",
        "colab_type": "text"
      },
      "source": [
        "<a href=\"https://colab.research.google.com/github/ti-sanjid/Introduction-to-netCDF/blob/main/Introduction_to_netCDF.ipynb\" target=\"_parent\"><img src=\"https://colab.research.google.com/assets/colab-badge.svg\" alt=\"Open In Colab\"/></a>"
      ]
    },
    {
      "cell_type": "markdown",
      "source": [
        "## What is NetCdf??\n",
        "NetCDF (Network Commnon Data Form) is a file format for storing and sharing data, particularly climate and oceanographic data. It was developed by the Unidata Program Center at University Corporation for Atmospheric Research(UCAR) in the 1980s.\n"
      ],
      "metadata": {
        "id": "QP3g4nlX354l"
      }
    },
    {
      "cell_type": "markdown",
      "source": [
        "# NetCDF Data Model\n",
        "\n",
        "\n",
        "\n",
        "The netCDF data model  is based on three major components:\n",
        "\n",
        "\n",
        "\n",
        "*  Variables \n",
        "*  Dimensions\n",
        "*  Attributes\n",
        "\n",
        "\n",
        "This way of thinking about data was introduced with the very first netCDF release, and is still the core of all netCDF files.\n",
        "\n",
        "In version 4.0, the netCDF data model has been expanded which is known as `The Enhanced Data Model`.But we are going to talk about the classic data model in this article which is also the core of the new enhanced data model.\n",
        "\n",
        "\n",
        "<img src='https://drive.google.com/uc?id=1Y-C3fsTq0L053uNtM4mo7Rjxb2cE7aP0' width=\"\" height=\"600\">\n",
        "\n",
        "## Dimensions\n",
        "Dimensions define the size and the shape of the data arrays.Each dimension is given a name,a length, and a tag indicating whether it is an unlimited dimension,which can be expanded to accommodate new data without rewriting the entire file.We can see the above diagram to better understanding.\n",
        "\n",
        "For example, a NetCDF file containing temperature data might have dimensions named `latitude`, `longitude`, and `time`, each with a specific length. The temperature variable in the file could then be defined with a shape of (time, latitude, longitude), meaning that it is a 3-dimensional array with its size along each dimension defined by the length of the corresponding dimension in the file.\n",
        "\n",
        "\n",
        "## Variables\n",
        "Variables are used to store multidimensional arrays of data in a NetCDF file. Each variable is given a name, a data type, a shape (defined by one or more dimensions), and a set of attributes that describe the data. \n",
        "\n",
        "In NetCDF, the shape of a variable refers to the dimensions that define the size of the variable's array. The shape is a tuple that specifies the length of each dimension in the array. For example, a variable representing temperature values measured at different locations and times might have a shape of (time, location).\n",
        "\n",
        "Variables can also have a special attribute called `_FillValue`, which indicates missing or undefined data.\n",
        "\n",
        "\n",
        "For example, a NetCDF file containing temperature data might have a variable representing temperature values measured at different lattitudes,longitudes and times  with a shape of (time, latitude, longitude). This means that the variable contains a 3-dimensional array of temperature values, with its size along each dimension defined by the length of the corresponding dimension in the file.\n",
        "\n",
        "\n",
        "\n",
        "## Attributes\n",
        "\n",
        "Attributes are used to store metadata about the data in a NetCDF file. Each attribute is given a name and a value, which can be a scalar, a one-dimensional array, or a multidimensional array. Attributes can be attached to dimensions, variables, or the global attributes of the file itself. \n",
        "\n",
        "For example, a NetCDF file might have attributes describing the units of the variables, the source of the data, the processing steps that were applied, or other relevant information.\n",
        "\n",
        "\n",
        "\n",
        "\n",
        "Together, dimensions, variables, and attributes form the basic building blocks of the NetCDF data model. By using these components, NetCDF files can store and organize complex scientific data sets in a way that is platform-independent, flexible, and efficient.\n",
        "\n"
      ],
      "metadata": {
        "id": "XVdJE_dJ3-TT"
      }
    },
    {
      "cell_type": "markdown",
      "source": [
        "Here's an example to illustrate the relationship between these three concepts:\n",
        "\n",
        "Suppose we want to store daily temperature data for a year at different locations on the Earth's surface. we might use the following NetCDF structure:\n",
        "```\n",
        "Dimension: `time` (length = 365)\n",
        "Dimension: `lat` (length = 180)\n",
        "Dimension: `lon` (length = 360)\n",
        "Variable: `time` (type = float64, shape = `(time,)`) - stores the time values\n",
        "Variable: `lat` (type = float32, shape = `(lat,)`) - stores the latitude values\n",
        "Variable: `lon` (type = float32, shape = `(lon,)`) - stores the longitude values\n",
        "Variable: `temperature` (type = float32, shape = `(time, lat, lon)`) - stores the temperature values\n",
        "\n",
        "```\n",
        "In this example, time, lat, and lon are the dimensions that define the shape of the temperature variable. The temperature variable stores the actual temperature data as a three-dimensional array, and the time, lat, and lon variables store the values that correspond to each dimension. The dimensions and variables can also have attributes, such as units or long names, to provide additional information about the data."
      ],
      "metadata": {
        "id": "dJuCTP-M4FIB"
      }
    },
    {
      "cell_type": "markdown",
      "source": [
        "## What is NetCDF then? \n",
        "NetCDF views the world of scientific data in the same way that an atmospheric scientist might: as sets of related arrays. There are various physical quantities (such as pressure and temperature) located at points at a particular latitude, longitude, vertical level, and time.\n",
        "\n",
        "A scientist might also like to store supporting information, such as the units, or some information about how the data were produced.\n",
        "\n",
        "The axis information (latitude, longitude, level, and time) would be stored as netCDF dimensions. Dimensions have a length and a name.\n",
        "\n",
        "The physical quantities (pressure, temperature) would be stored as netCDF variables. Variables are N-dimensional arrays of data, with a name and an associated set of netCDF dimensions.\n",
        "\n",
        "It is also common to include one variable for each dimension in order to keep the values along that axis consistent. These variables are called **“coordinate variables.”** The latitude coordinate variable would be a one-dimensional variable (with latitude as its dimension), and it would hold the latitude values at each point along the axis.\n",
        "\n",
        "The additional bits of metadata would be stored as netCDF attributes.\n",
        "\n",
        "Attributes are always single values or one-dimensional arrays. (This works out well for a string, which is a one-dimensional array of ASCII characters.)\n",
        "\n",
        "Source: https://docs.unidata.ucar.edu/netcdf-c/current/netcdf_data_model.html#met_example"
      ],
      "metadata": {
        "id": "gSQq5qca4MTa"
      }
    },
    {
      "cell_type": "markdown",
      "source": [
        "## Multidimensional geographic data\n",
        "\n",
        "Temperature is a good example of multidimensional geographic data.\n",
        "\n",
        "\n",
        "Let's suppose temperature is depending on X (Latitude),Y (Longitude) and Time.\n",
        "\n",
        "<img src='https://drive.google.com/uc?id=1iCQYLcmKmgZOBGXMabXCqYx5uTmRTl1O' width=\"300\" height=\"\">\n",
        "\n",
        "\n",
        "\n",
        "\n",
        "We can say that temperauture depending on three dimensions.So we will get different values of temperature for any change in one of these dimensions.That's why we get different values in diagram below-\n",
        "\n",
        "<img src='https://drive.google.com/uc?id=10BiKL0SGIGq68zle5V_IGv4rG3WUjSJD' width=\"500\" height=\"\">\n",
        "\n",
        "\n"
      ],
      "metadata": {
        "id": "FEpNtZ6Q4VXE"
      }
    },
    {
      "cell_type": "markdown",
      "source": [
        "## Why do we use netcdf?\n",
        "\n",
        "NetCDF is usually used to store multidimensional geographic data.\n",
        "\n",
        "\n",
        "\n",
        "\n",
        "\n",
        "\n",
        "Some examples of these data are temperature,pressure,humidity,precipitation,wind speed and direction.Variables stored in NetCDF are often measured multiple times per day over large areas.With multiple measurements per day, data values accumulate quickly and become unwieldy to work with. When each value is also assigned to a geographic location, data management is further complicated. NetCDF provides a solution for these challenges.\n",
        "\n",
        "\n",
        "NetCDF is a self-describing file format that can store data fields as well as the relevant \"metadata\", or `information about the contents of the file`.\n",
        "\n",
        "**Metadata** - Important information describing the data contained in netCDF files which is embedded directly in the netCDF file.Types of metadata include descriptive names, units, horizontal and vertical, coordinates, file creation date/time, file history, etc.\n",
        "\n",
        "NetCDF data is:\n",
        "\n",
        "* Self-Describing. A netCDF file includes information about the data it contains.\n",
        "* Portable. A netCDF file can be accessed by computers with different ways of storing integers, characters, and floating-point numbers.\n",
        "* Scalable. A small subset of a large dataset may be accessed efficiently.\n",
        "* Appendable. Data may be appended to a properly structured netCDF file without copying the dataset or redefining its structure.\n",
        "* Sharable. One writer and multiple readers may simultaneously access the same netCDF file.\n",
        "* Archivable. Access to all earlier forms of netCDF data will be supported by current and future versions of the software.\n"
      ],
      "metadata": {
        "id": "OChcOKgM4dnK"
      }
    },
    {
      "cell_type": "markdown",
      "source": [
        "# Creating a NetCDF file.\n",
        "In this section we'll attempt to create and write a NetCDF file for temperature and pressure."
      ],
      "metadata": {
        "id": "mqihK0Nf4jXm"
      }
    },
    {
      "cell_type": "code",
      "source": [
        "import netCDF4 as nc\n",
        "import numpy as np\n",
        "import warnings\n",
        "warnings.filterwarnings('ignore')\n",
        "\n",
        "# create a new NetCDF file\n",
        "ncfile = nc.Dataset('temperature_pressure.nc','w')\n",
        "\n",
        "# define the dimensions of the data\n",
        "time = ncfile.createDimension('time', None)\n",
        "lat = ncfile.createDimension('lat', 10)\n",
        "lon = ncfile.createDimension('lon', 10)\n",
        "\n",
        "# create variables for the data and set their attributes\n",
        "times = ncfile.createVariable('time', np.float64, ('time',))\n",
        "times.units = 'days since 2022-01-01 00:00:00'\n",
        "times.long_name = 'Time'\n",
        "lats = ncfile.createVariable('lat', np.float32, ('lat',))\n",
        "lats.units = 'degrees_north'\n",
        "lats.long_name = 'Latitude'\n",
        "lons = ncfile.createVariable('lon', np.float32, ('lon',))\n",
        "lons.units = 'degrees_east'\n",
        "lons.long_name = 'Longitude'\n",
        "temp = ncfile.createVariable('temperature', np.float32, ('time', 'lat', 'lon',))\n",
        "temp.units = 'Celsius'\n",
        "temp.long_name = 'Temperature'\n",
        "pres = ncfile.createVariable('pressure', np.float32, ('time', 'lat', 'lon',))\n",
        "pres.units = 'hPa'\n",
        "pres.long_name = 'Pressure'\n",
        "\n",
        "# create some fake temperature and pressure data to write to the file\n",
        "num_times = 5\n",
        "num_lats = 10\n",
        "num_lons = 10\n",
        "times_data = np.arange(num_times)\n",
        "lats_data = np.linspace(-90, 90, num_lats)\n",
        "lons_data = np.linspace(-180, 180, num_lons)\n",
        "temp_data = np.random.randint(-30, 40, (num_times, num_lats, num_lons))\n",
        "pres_data = np.random.randint(900, 1100, (num_times, num_lats, num_lons))\n",
        "\n",
        "# write the data to the variables in the NetCDF file\n",
        "times[:] = times_data\n",
        "lats[:] = lats_data\n",
        "lons[:] = lons_data\n",
        "temp[:] = temp_data\n",
        "pres[:] = pres_data\n",
        "\n",
        "# set metadata for the NetCDF file\n",
        "ncfile.title = 'Temperature and Pressure Data'\n",
        "ncfile.history = 'Created on February 15, 2023'\n",
        "ncfile.source = 'Generated by Python script'\n",
        " \n",
        "# close the NetCDF file\n",
        "ncfile.close()"
      ],
      "metadata": {
        "id": "RP8uJhUI4qFt"
      },
      "execution_count": null,
      "outputs": []
    },
    {
      "cell_type": "markdown",
      "source": [
        "In this example, we create a new NetCDF file called temperature_pressure.nc and define the dimensions of the data: `time`, `lat`, and `lon`. We then create variables for each dimension and the temperature and pressure data, and set their attributes, such as units.\n",
        "\n",
        "Next, we create some fake temperature and pressure data to write to the file: 5 time steps, 10 latitudes, and 10 longitudes, with random temperature values between -30 and 40 Celsius, and random pressure values between 900 and 1100 hPa. Finally, we write the data to the variables in the NetCDF file using the `[:]` syntax to assign the entire array at once.\n",
        "\n",
        "In this example, we use the long_name attribute to provide descriptive metadata for each variable, and the title, history, and source attributes to add metadata to the NetCDF file as a whole.\n",
        "\n",
        "When the above code is run, a new NetCDF file will be created with the specified dimensions and variables, and the fake temperature and pressure data will be written to the file. The file can then be shared or analyzed using NetCDF libraries in other software programs."
      ],
      "metadata": {
        "id": "buQ0AnAg4trA"
      }
    },
    {
      "cell_type": "markdown",
      "source": [
        "## Exploring dimensions, variable, and attributes in a NetCDF file."
      ],
      "metadata": {
        "id": "xYFRMXdP4zSD"
      }
    },
    {
      "cell_type": "markdown",
      "source": [
        "### Dimension information\n",
        "In this section, we'll write some code to see the dimensions of the netcdf file we've prepared before."
      ],
      "metadata": {
        "id": "dvmwYsyPB6Yy"
      }
    },
    {
      "cell_type": "code",
      "source": [
        "ncfile = nc.Dataset('temperature_pressure.nc', 'r')\n",
        "\n",
        "# Print the names and sizes of the dimensions\n",
        "for dimname, dimobj in ncfile.dimensions.items():\n",
        "    print(dimname, len(dimobj))"
      ],
      "metadata": {
        "colab": {
          "base_uri": "https://localhost:8080/"
        },
        "id": "aSiySvXzCCWx",
        "outputId": "1cb8555b-f733-4793-a8c3-4eb7d5a24e86"
      },
      "execution_count": null,
      "outputs": [
        {
          "output_type": "stream",
          "name": "stdout",
          "text": [
            "time 5\n",
            "lat 10\n",
            "lon 10\n"
          ]
        }
      ]
    },
    {
      "cell_type": "markdown",
      "source": [
        "### Variable information\n",
        "In this section, we'll write some code to determine the variables of the netcdf file we've prepared before."
      ],
      "metadata": {
        "id": "IHcvdpDiB6WK"
      }
    },
    {
      "cell_type": "code",
      "source": [
        "ncfile = nc.Dataset('temperature_pressure.nc', 'r')\n",
        "\n",
        "# Print the names and shapes of the variables\n",
        "for varname, varobj in ncfile.variables.items():\n",
        "    print(varname, varobj.shape)"
      ],
      "metadata": {
        "colab": {
          "base_uri": "https://localhost:8080/"
        },
        "id": "z2WukDxRCG5J",
        "outputId": "b7d77ace-039e-42b2-dd7a-864879e74a0e"
      },
      "execution_count": null,
      "outputs": [
        {
          "output_type": "stream",
          "name": "stdout",
          "text": [
            "time (5,)\n",
            "lat (10,)\n",
            "lon (10,)\n",
            "temperature (5, 10, 10)\n",
            "pressure (5, 10, 10)\n"
          ]
        }
      ]
    },
    {
      "cell_type": "markdown",
      "source": [
        "### To list the attributes of a variable in a NetCDF file\n",
        "The code below will print the names and values of all attributes of the `temperature `variable in the file"
      ],
      "metadata": {
        "id": "gkb2_xc4B6TS"
      }
    },
    {
      "cell_type": "code",
      "source": [
        "# Open the NetCDF file\n",
        "ncfile = nc.Dataset('temperature_pressure.nc', 'r')\n",
        "\n",
        "# Access a variable and print its attributes\n",
        "temp_var = ncfile.variables['temperature']\n",
        "for attrname in temp_var.ncattrs():\n",
        "    print(attrname, '=', getattr(temp_var, attrname))"
      ],
      "metadata": {
        "colab": {
          "base_uri": "https://localhost:8080/"
        },
        "id": "xfWJI5L9CNVy",
        "outputId": "7b2f111f-4704-439e-d784-4fa5016177b6"
      },
      "execution_count": null,
      "outputs": [
        {
          "output_type": "stream",
          "name": "stdout",
          "text": [
            "units = Celsius\n",
            "long_name = Temperature\n"
          ]
        }
      ]
    },
    {
      "cell_type": "markdown",
      "source": [
        "The code below will print the names and values of all attributes of the `pressure` variable in the file."
      ],
      "metadata": {
        "id": "pgV-NvphB6Ri"
      }
    },
    {
      "cell_type": "code",
      "source": [
        "# Open the NetCDF file\n",
        "ncfile = nc.Dataset('temperature_pressure.nc', 'r')\n",
        "\n",
        "# Access a variable and print its attributes\n",
        "temp_var = ncfile.variables['pressure']\n",
        "for attrname in temp_var.ncattrs():\n",
        "    print(attrname, '=', getattr(temp_var, attrname))"
      ],
      "metadata": {
        "colab": {
          "base_uri": "https://localhost:8080/"
        },
        "id": "zTXv88uICaMa",
        "outputId": "c41c0bb3-774f-4026-96e1-e1043f1d4bd7"
      },
      "execution_count": null,
      "outputs": [
        {
          "output_type": "stream",
          "name": "stdout",
          "text": [
            "units = hPa\n",
            "long_name = Pressure\n"
          ]
        }
      ]
    },
    {
      "cell_type": "markdown",
      "source": [
        "## How to read the values of a variable.\n",
        "\n",
        "To read the pressure values from the NetCDF file, we can use the `variables` attribute of the `Dataset` object in the netCDF4 package, which returns a dictionary-like object containing the variables in the NetCDF file. Here is some sample code that demonstrates how to read the pressure values:"
      ],
      "metadata": {
        "id": "lwRraKfiB6PB"
      }
    },
    {
      "cell_type": "code",
      "source": [
        "import netCDF4 as nc\n",
        "\n",
        "# Open the NetCDF file\n",
        "nc_file = nc.Dataset('temperature_pressure.nc')\n",
        "\n",
        "# Get the pressure variable\n",
        "pressure = nc_file.variables['pressure'][:]\n",
        "\n",
        "# Close the NetCDF file\n",
        "nc_file.close()\n",
        "\n",
        "# Print the pressure values\n",
        "print(pressure)"
      ],
      "metadata": {
        "colab": {
          "base_uri": "https://localhost:8080/"
        },
        "id": "wrugB92rChHC",
        "outputId": "b8edf318-f420-4cc0-b118-e96d03842cf8"
      },
      "execution_count": null,
      "outputs": [
        {
          "output_type": "stream",
          "name": "stdout",
          "text": [
            "[[[ 951.  958. 1001. 1058. 1093. 1047.  920. 1088. 1068.  947.]\n",
            "  [1034. 1024.  986. 1035. 1088. 1074. 1035. 1067. 1012.  978.]\n",
            "  [ 981.  931.  956.  933.  970.  948. 1035. 1051.  980. 1006.]\n",
            "  [ 992. 1012.  903.  950.  909. 1056. 1002. 1069. 1086.  989.]\n",
            "  [1037.  911.  932.  967.  935.  931.  988. 1065. 1032. 1037.]\n",
            "  [1048.  910.  975.  946. 1017. 1015.  911. 1081.  988.  998.]\n",
            "  [1065.  966. 1088.  947. 1086. 1057.  938.  911.  980. 1090.]\n",
            "  [1034. 1074. 1003. 1004.  939.  993. 1043.  924.  913.  965.]\n",
            "  [ 957. 1000.  966.  975. 1050. 1029. 1054.  987.  999. 1060.]\n",
            "  [1050.  963.  975.  972. 1052.  957. 1076. 1036.  945. 1036.]]\n",
            "\n",
            " [[ 953. 1014.  925.  911. 1056.  979.  957. 1018.  917.  906.]\n",
            "  [ 943. 1065.  996. 1043.  949.  918. 1035. 1077. 1030. 1038.]\n",
            "  [ 931. 1052. 1022.  916. 1000. 1005. 1037.  919. 1064.  939.]\n",
            "  [1084. 1044.  933. 1077. 1060.  932. 1084.  918.  937.  924.]\n",
            "  [1014. 1014.  926. 1010. 1063. 1044.  942. 1078.  930.  929.]\n",
            "  [1098.  987. 1045. 1078.  912.  907.  913.  956.  976.  962.]\n",
            "  [ 954.  986. 1038.  951.  949. 1026.  958. 1082.  983. 1008.]\n",
            "  [ 921. 1006. 1063.  989. 1003.  904.  946.  968. 1073.  932.]\n",
            "  [ 952. 1032.  971. 1052. 1004. 1067. 1032.  982. 1092. 1029.]\n",
            "  [ 982.  940.  902.  933. 1029.  907.  965.  958. 1056. 1012.]]\n",
            "\n",
            " [[ 947.  908.  994.  964.  944. 1097.  980.  999.  992.  918.]\n",
            "  [1061. 1083. 1008.  967.  994.  911. 1015. 1078. 1056.  941.]\n",
            "  [ 964. 1055. 1059. 1088. 1032. 1012. 1001. 1094.  993. 1075.]\n",
            "  [1015.  913.  988. 1086. 1034. 1083.  979.  965. 1016. 1037.]\n",
            "  [ 936.  926. 1023.  960.  952. 1049.  993. 1021. 1019. 1093.]\n",
            "  [1094.  916.  976.  929. 1073. 1001. 1062.  932.  956.  968.]\n",
            "  [1023. 1034.  951.  901.  945.  907. 1097. 1006.  970. 1035.]\n",
            "  [ 990.  926.  961.  904.  983.  991.  932. 1024. 1010.  947.]\n",
            "  [ 940. 1023.  958.  983.  918. 1099. 1019.  982. 1087.  907.]\n",
            "  [1067.  908.  988.  921.  930.  940. 1020.  966. 1036. 1037.]]\n",
            "\n",
            " [[1031.  917. 1040.  959.  900. 1020.  979. 1092.  919. 1025.]\n",
            "  [1033.  939. 1079.  939.  922. 1080. 1021. 1059. 1081. 1095.]\n",
            "  [1087. 1063.  916.  927.  994. 1095.  986.  900. 1019.  956.]\n",
            "  [1019.  976. 1023. 1085.  969. 1093. 1002.  913.  942.  919.]\n",
            "  [1094.  936.  983.  957. 1064.  923. 1031.  916. 1098. 1080.]\n",
            "  [ 944. 1037. 1085. 1031.  923. 1001. 1064. 1080.  936. 1028.]\n",
            "  [ 992. 1097.  982. 1015.  978. 1024.  903.  981. 1080. 1071.]\n",
            "  [ 987. 1017.  917.  985. 1065.  929.  980.  960.  977. 1013.]\n",
            "  [1081.  990. 1062. 1064. 1059.  908.  901. 1048. 1031.  987.]\n",
            "  [1016.  988. 1008.  971.  979.  993.  957.  900.  926. 1006.]]\n",
            "\n",
            " [[ 996.  945.  910.  903. 1090. 1099.  964.  923.  952.  925.]\n",
            "  [ 944.  940.  963. 1051.  941. 1032. 1051. 1052.  999.  990.]\n",
            "  [ 943. 1026. 1057. 1096. 1000. 1096. 1037.  980.  984. 1024.]\n",
            "  [ 942. 1052. 1081. 1077. 1085. 1046.  912. 1006. 1013. 1001.]\n",
            "  [ 966.  987. 1052. 1074.  950. 1085.  994.  971.  954. 1052.]\n",
            "  [ 938.  985.  939.  935.  932. 1047. 1083.  907. 1076.  954.]\n",
            "  [1047. 1061.  958. 1073.  998.  909. 1096.  978.  965.  911.]\n",
            "  [1082. 1062.  956. 1080. 1030. 1052.  906.  986.  931.  964.]\n",
            "  [ 959.  906. 1057. 1091. 1078.  993. 1078. 1095.  921.  941.]\n",
            "  [1028.  925.  990. 1019.  927.  984. 1034. 1040.  940.  936.]]]\n"
          ]
        }
      ]
    },
    {
      "cell_type": "markdown",
      "source": [
        "We can print a specific part of values of a variable."
      ],
      "metadata": {
        "id": "hN7MzdQSB6Mh"
      }
    },
    {
      "cell_type": "code",
      "source": [
        "\n",
        "import netCDF4 as nc\n",
        "\n",
        "# Open the NetCDF file\n",
        "nc_file = nc.Dataset('temperature_pressure.nc')\n",
        "\n",
        "# Get the pressure variable\n",
        "pressure = nc_file.variables['pressure'][:]\n",
        "\n",
        "# Read a subset of the pressure values\n",
        "subset = pressure[0:3,0:5,0:5]  # First part for time,second part for lat and third part for lon.\n",
        "\n",
        "# Close the NetCDF file\n",
        "nc_file.close()\n",
        "\n",
        "# Print the subset of pressure values\n",
        "print(subset)"
      ],
      "metadata": {
        "colab": {
          "base_uri": "https://localhost:8080/"
        },
        "id": "SQ2EUsfmCr55",
        "outputId": "cd130ee8-059e-45e4-dd5d-d5df1d43f77b"
      },
      "execution_count": null,
      "outputs": [
        {
          "output_type": "stream",
          "name": "stdout",
          "text": [
            "[[[ 951.  958. 1001. 1058. 1093.]\n",
            "  [1034. 1024.  986. 1035. 1088.]\n",
            "  [ 981.  931.  956.  933.  970.]\n",
            "  [ 992. 1012.  903.  950.  909.]\n",
            "  [1037.  911.  932.  967.  935.]]\n",
            "\n",
            " [[ 953. 1014.  925.  911. 1056.]\n",
            "  [ 943. 1065.  996. 1043.  949.]\n",
            "  [ 931. 1052. 1022.  916. 1000.]\n",
            "  [1084. 1044.  933. 1077. 1060.]\n",
            "  [1014. 1014.  926. 1010. 1063.]]\n",
            "\n",
            " [[ 947.  908.  994.  964.  944.]\n",
            "  [1061. 1083. 1008.  967.  994.]\n",
            "  [ 964. 1055. 1059. 1088. 1032.]\n",
            "  [1015.  913.  988. 1086. 1034.]\n",
            "  [ 936.  926. 1023.  960.  952.]]]\n"
          ]
        }
      ]
    },
    {
      "cell_type": "markdown",
      "source": [
        "To extract the values of a variable for a specific dimension, we can use NumPy's array indexing and slicing functionality."
      ],
      "metadata": {
        "id": "WLS0FXvVB6KB"
      }
    },
    {
      "cell_type": "code",
      "source": [
        "import netCDF4 as nc\n",
        "import numpy as np\n",
        "\n",
        "# Open the netCDF file\n",
        "nc_file = nc.Dataset('temperature_pressure.nc', 'r')\n",
        "\n",
        "# Get the time dimension index you're interested in\n",
        "time_index = 0\n",
        "\n",
        "# Extract the temperature values for the specified time index\n",
        "temperature_slice = nc_file.variables['temperature'][time_index, :, :]\n",
        "\n",
        "# to print the values temperature.\n",
        "print(temperature_slice)\n",
        "\n",
        "# Close the netCDF file\n",
        "nc_file.close()"
      ],
      "metadata": {
        "colab": {
          "base_uri": "https://localhost:8080/"
        },
        "id": "LS6nV60aC1ly",
        "outputId": "7f6222e7-8b2f-4522-9961-fb51d936ef5a"
      },
      "execution_count": null,
      "outputs": [
        {
          "output_type": "stream",
          "name": "stdout",
          "text": [
            "[[ 12. -24.  -4.  20.   0.  36. -25.  -7.  38. -21.]\n",
            " [-10.  16.   6.  22. -24.   5. -18.  -9.   0.  36.]\n",
            " [ 33.  23.  15.  31.  -7.  39. -11.  -5.   7. -19.]\n",
            " [ -5.  23. -10.  12.  -2.  12.  23.  27.  31. -20.]\n",
            " [-25.   9.  25. -14.  38. -29.  32.  37.  20.   8.]\n",
            " [  5.  -4.  11. -11. -11. -17.  -8.  21.   7.  13.]\n",
            " [-29.  -4.  29.  -5. -28.  21. -20.  27.  -7.  18.]\n",
            " [ 39.  19. -19.   3.  25. -11. -23.  25. -30. -26.]\n",
            " [ 19. -23.  29.  31.   5.   8. -10. -27.  25. -19.]\n",
            " [ 21.  18.  26.   3.  27.  39. -23. -28.  19. -11.]]\n"
          ]
        }
      ]
    },
    {
      "cell_type": "markdown",
      "source": [
        "## ncdump\n",
        "`ncdump` is a command line.It is used to exibits the metadata and data of a netCDF file so that we humans can read the file easily.Basically,it is used to show the contents of netCDF files.It's useful for browsing data.\n",
        "\n",
        "\n",
        "\n",
        "ncdump has a lots of options:\n",
        "\n",
        "```\n",
        "ncdump [-c|-h] [-v ...] [-k] [-t] [-s] [-b lang] [-f lang]\n",
        "       [-l len] [-n name] [-p fdig[,ddig]] [-x] file.nc\n",
        "\n",
        "  [-c]               Coordinate variable data and header information\n",
        "  [-h]               Header information only, no data\n",
        "  [-v var1[,...]]    Data for variable(s) var1,... only\n",
        "  [-k]               Output kind of netCDF file\n",
        "  [-t]               Output time data as ISO date-time strings\n",
        "\n",
        "  [-s]               Output special (virtual) attributes\n",
        "  [-b [c|f]]         Brief annotations for C or Fortran indices in data\n",
        "  [-f [c|f]]         Full annotations for C or Fortran indices in data\n",
        "  [-l len]           Line length maximum in data section (default 80)\n",
        "  [-n name]          Name for netCDF (default derived from file name)\n",
        "  [-p n[,n]]         Display floating-point values with less precision\n",
        "  [-x]               Output NcML instead of CDL (netCDF-3 files only)\n",
        "\n",
        "  file.nc            Name of netCDF file\n",
        "```\n",
        "reference:https://www.unidata.ucar.edu/software/netcdf/workshops/2011/utilities/Ncdump.html"
      ],
      "metadata": {
        "id": "no4DLAFMFCui"
      }
    },
    {
      "cell_type": "markdown",
      "source": [
        "**To install the ncdump command line tool on the system we need to use the following code cell.**"
      ],
      "metadata": {
        "id": "3YgvbGBrLOO4"
      }
    },
    {
      "cell_type": "code",
      "source": [
        "!apt-get install netcdf-bin\n",
        "!apt-get install libnetcdf-dev"
      ],
      "metadata": {
        "colab": {
          "base_uri": "https://localhost:8080/"
        },
        "id": "iyDF6Sh_DIqi",
        "outputId": "5ec07dcd-9d21-4b23-d068-1b75e93868aa"
      },
      "execution_count": null,
      "outputs": [
        {
          "output_type": "stream",
          "name": "stdout",
          "text": [
            "Reading package lists... Done\n",
            "Building dependency tree       \n",
            "Reading state information... Done\n",
            "The following NEW packages will be installed:\n",
            "  netcdf-bin\n",
            "0 upgraded, 1 newly installed, 0 to remove and 19 not upgraded.\n",
            "Need to get 191 kB of archives.\n",
            "After this operation, 563 kB of additional disk space will be used.\n",
            "Get:1 http://archive.ubuntu.com/ubuntu focal/universe amd64 netcdf-bin amd64 1:4.7.3-1 [191 kB]\n",
            "Fetched 191 kB in 0s (1,076 kB/s)\n",
            "Selecting previously unselected package netcdf-bin.\n",
            "(Reading database ... 128208 files and directories currently installed.)\n",
            "Preparing to unpack .../netcdf-bin_1%3a4.7.3-1_amd64.deb ...\n",
            "Unpacking netcdf-bin (1:4.7.3-1) ...\n",
            "Setting up netcdf-bin (1:4.7.3-1) ...\n",
            "Processing triggers for man-db (2.9.1-1) ...\n",
            "Reading package lists... Done\n",
            "Building dependency tree       \n",
            "Reading state information... Done\n",
            "libnetcdf-dev is already the newest version (1:4.7.3-1).\n",
            "libnetcdf-dev set to manually installed.\n",
            "0 upgraded, 0 newly installed, 0 to remove and 19 not upgraded.\n"
          ]
        }
      ]
    },
    {
      "cell_type": "markdown",
      "source": [
        "## Let's try to use it on the netcdf file `temperature_pressure.nc` we have created above.\n",
        "\n"
      ],
      "metadata": {
        "id": "0DHVmy7ZMB9Q"
      }
    },
    {
      "cell_type": "code",
      "source": [
        "!ncdump -ct temperature_pressure.nc"
      ],
      "metadata": {
        "colab": {
          "base_uri": "https://localhost:8080/"
        },
        "id": "pWgMGDjaE7th",
        "outputId": "5e72ebb6-44c1-41e9-b2e3-1ff02cb5cb36"
      },
      "execution_count": null,
      "outputs": [
        {
          "output_type": "stream",
          "name": "stdout",
          "text": [
            "netcdf temperature_pressure {\n",
            "dimensions:\n",
            "\ttime = UNLIMITED ; // (5 currently)\n",
            "\tlat = 10 ;\n",
            "\tlon = 10 ;\n",
            "variables:\n",
            "\tdouble time(time) ;\n",
            "\t\ttime:units = \"days since 2022-01-01 00:00:00\" ;\n",
            "\t\ttime:long_name = \"Time\" ;\n",
            "\tfloat lat(lat) ;\n",
            "\t\tlat:units = \"degrees_north\" ;\n",
            "\t\tlat:long_name = \"Latitude\" ;\n",
            "\tfloat lon(lon) ;\n",
            "\t\tlon:units = \"degrees_east\" ;\n",
            "\t\tlon:long_name = \"Longitude\" ;\n",
            "\tfloat temperature(time, lat, lon) ;\n",
            "\t\ttemperature:units = \"Celsius\" ;\n",
            "\t\ttemperature:long_name = \"Temperature\" ;\n",
            "\tfloat pressure(time, lat, lon) ;\n",
            "\t\tpressure:units = \"hPa\" ;\n",
            "\t\tpressure:long_name = \"Pressure\" ;\n",
            "\n",
            "// global attributes:\n",
            "\t\t:title = \"Temperature and Pressure Data\" ;\n",
            "\t\t:history = \"Created on February 15, 2023\" ;\n",
            "\t\t:source = \"Generated by Python script\" ;\n",
            "data:\n",
            "\n",
            " time = \"2022-01-01\", \"2022-01-02\", \"2022-01-03\", \"2022-01-04\", \"2022-01-05\" ;\n",
            "\n",
            " lat = -90, -70, -50, -30, -10, 10, 30, 50, 70, 90 ;\n",
            "\n",
            " lon = -180, -140, -100, -60, -20, 20, 60, 100, 140, 180 ;\n",
            "}\n"
          ]
        }
      ]
    },
    {
      "cell_type": "markdown",
      "source": [
        "**Let's try it on a random netCDF file that are obtained from observations by different organizations.**\n",
        "\n",
        "We are using colab here.\n",
        "\n",
        "Firstly,we need to upload the file on the drive>colab notebooks folder.\n",
        "Then we need to mount the drive in colab.\n",
        "\n",
        "We can do it manualy by clicking on the folder button that appears on the left side line in colab,then clicking on the drive button on the top.\n",
        "\n",
        "Or, we can use the the following code in a cell:\n",
        "```\n",
        "from google.colab import drive\n",
        "drive.mount('/content/drive')\n",
        "```\n",
        "\n",
        "navigate to the directory containing the netcdf file.For example:\n",
        "```\n",
        "%cd /content/drive/MyDrive/data\n",
        "```\n",
        "\n",
        "Then we can use the `ncdump`:\n",
        "```\n",
        "!ncdump -h my_netcdf_file.nc\n",
        "```"
      ],
      "metadata": {
        "id": "EFxEG_9OMVTY"
      }
    },
    {
      "cell_type": "code",
      "source": [
        "# As I have mounted manually\n",
        "# from google.colab import drive\n",
        "# drive.mount('/content/drive')"
      ],
      "metadata": {
        "id": "GEXhFs53Fv4J"
      },
      "execution_count": null,
      "outputs": []
    },
    {
      "cell_type": "code",
      "source": [
        "#  Navigating to folder that contains the netCDF file.\n",
        "%cd /content/drive/MyDrive/Colab Notebooks/NetCDF project\n"
      ],
      "metadata": {
        "colab": {
          "base_uri": "https://localhost:8080/"
        },
        "id": "nIL0edaNGjri",
        "outputId": "67d0a0df-bae9-4376-ce32-81ac25272cc2"
      },
      "execution_count": null,
      "outputs": [
        {
          "output_type": "stream",
          "name": "stdout",
          "text": [
            "/content/drive/MyDrive/Colab Notebooks/NetCDF project\n"
          ]
        }
      ]
    },
    {
      "cell_type": "code",
      "source": [
        "!ncdump -ct sresa1b_ncar_ccsm3-example.nc"
      ],
      "metadata": {
        "colab": {
          "base_uri": "https://localhost:8080/"
        },
        "id": "PrxO1xH_GjoR",
        "outputId": "09d656d4-f103-42ed-ecd8-2f130e61e6df"
      },
      "execution_count": null,
      "outputs": [
        {
          "output_type": "stream",
          "name": "stdout",
          "text": [
            "netcdf sresa1b_ncar_ccsm3-example {\n",
            "dimensions:\n",
            "\tlat = 128 ;\n",
            "\tlon = 256 ;\n",
            "\tbnds = 2 ;\n",
            "\tplev = 17 ;\n",
            "\ttime = UNLIMITED ; // (1 currently)\n",
            "variables:\n",
            "\tfloat area(lat, lon) ;\n",
            "\t\tarea:long_name = \"Surface area\" ;\n",
            "\t\tarea:units = \"meter2\" ;\n",
            "\tfloat lat(lat) ;\n",
            "\t\tlat:long_name = \"latitude\" ;\n",
            "\t\tlat:units = \"degrees_north\" ;\n",
            "\t\tlat:axis = \"Y\" ;\n",
            "\t\tlat:standard_name = \"latitude\" ;\n",
            "\t\tlat:bounds = \"lat_bnds\" ;\n",
            "\tdouble lat_bnds(lat, bnds) ;\n",
            "\tfloat lon(lon) ;\n",
            "\t\tlon:long_name = \"longitude\" ;\n",
            "\t\tlon:units = \"degrees_east\" ;\n",
            "\t\tlon:axis = \"X\" ;\n",
            "\t\tlon:standard_name = \"longitude\" ;\n",
            "\t\tlon:bounds = \"lon_bnds\" ;\n",
            "\tdouble lon_bnds(lon, bnds) ;\n",
            "\tint msk_rgn(lat, lon) ;\n",
            "\t\tmsk_rgn:long_name = \"Mask region\" ;\n",
            "\t\tmsk_rgn:units = \"bool\" ;\n",
            "\tdouble plev(plev) ;\n",
            "\t\tplev:long_name = \"pressure\" ;\n",
            "\t\tplev:units = \"Pa\" ;\n",
            "\t\tplev:standard_name = \"air_pressure\" ;\n",
            "\t\tplev:positive = \"down\" ;\n",
            "\t\tplev:axis = \"Z\" ;\n",
            "\tfloat pr(time, lat, lon) ;\n",
            "\t\tpr:comment = \"Created using NCL code CCSM_atmm_2cf.ncl on\\n\",\n",
            "\t\t\t\" machine eagle163s\" ;\n",
            "\t\tpr:missing_value = 1.e+20f ;\n",
            "\t\tpr:_FillValue = 1.e+20f ;\n",
            "\t\tpr:cell_methods = \"time: mean (interval: 1 month)\" ;\n",
            "\t\tpr:history = \"(PRECC+PRECL)*r[h2o]\" ;\n",
            "\t\tpr:original_units = \"m-1 s-1\" ;\n",
            "\t\tpr:original_name = \"PRECC, PRECL\" ;\n",
            "\t\tpr:standard_name = \"precipitation_flux\" ;\n",
            "\t\tpr:units = \"kg m-2 s-1\" ;\n",
            "\t\tpr:long_name = \"precipitation_flux\" ;\n",
            "\t\tpr:cell_method = \"time: mean\" ;\n",
            "\tfloat tas(time, lat, lon) ;\n",
            "\t\ttas:comment = \"Created using NCL code CCSM_atmm_2cf.ncl on\\n\",\n",
            "\t\t\t\" machine eagle163s\" ;\n",
            "\t\ttas:missing_value = 1.e+20f ;\n",
            "\t\ttas:_FillValue = 1.e+20f ;\n",
            "\t\ttas:cell_methods = \"time: mean (interval: 1 month)\" ;\n",
            "\t\ttas:history = \"Added height coordinate\" ;\n",
            "\t\ttas:coordinates = \"height\" ;\n",
            "\t\ttas:original_units = \"K\" ;\n",
            "\t\ttas:original_name = \"TREFHT\" ;\n",
            "\t\ttas:standard_name = \"air_temperature\" ;\n",
            "\t\ttas:units = \"K\" ;\n",
            "\t\ttas:long_name = \"air_temperature\" ;\n",
            "\t\ttas:cell_method = \"time: mean\" ;\n",
            "\tdouble time(time) ;\n",
            "\t\ttime:calendar = \"noleap\" ;\n",
            "\t\ttime:standard_name = \"time\" ;\n",
            "\t\ttime:axis = \"T\" ;\n",
            "\t\ttime:units = \"days since 0000-1-1\" ;\n",
            "\t\ttime:bounds = \"time_bnds\" ;\n",
            "\t\ttime:long_name = \"time\" ;\n",
            "\tdouble time_bnds(time, bnds) ;\n",
            "\tfloat ua(time, plev, lat, lon) ;\n",
            "\t\tua:comment = \"Created using NCL code CCSM_atmm_2cf.ncl on\\n\",\n",
            "\t\t\t\" machine eagle163s\" ;\n",
            "\t\tua:missing_value = 1.e+20f ;\n",
            "\t\tua:cell_methods = \"time: mean (interval: 1 month)\" ;\n",
            "\t\tua:long_name = \"eastward_wind\" ;\n",
            "\t\tua:history = \"Interpolated U with NCL \\'vinth2p_ecmwf\\'\" ;\n",
            "\t\tua:units = \"m s-1\" ;\n",
            "\t\tua:original_units = \"m s-1\" ;\n",
            "\t\tua:original_name = \"U\" ;\n",
            "\t\tua:standard_name = \"eastward_wind\" ;\n",
            "\t\tua:_FillValue = 1.e+20f ;\n",
            "\n",
            "// global attributes:\n",
            "\t\t:CVS_Id = \"$Id$\" ;\n",
            "\t\t:creation_date = \"\" ;\n",
            "\t\t:prg_ID = \"Source file unknown Version unknown Date unknown\" ;\n",
            "\t\t:cmd_ln = \"bds -x 256 -y 128 -m 23 -o /data/zender/data/dst_T85.nc\" ;\n",
            "\t\t:history = \"Tue Oct 25 15:08:51 2005: ncks -O -x -v va -m sresa1b_ncar_ccsm3_0_run1_200001.nc sresa1b_ncar_ccsm3_0_run1_200001.nc\\n\",\n",
            "\t\t\t\"Tue Oct 25 15:07:21 2005: ncks -d time,0 sresa1b_ncar_ccsm3_0_run1_200001_201912.nc sresa1b_ncar_ccsm3_0_run1_200001.nc\\n\",\n",
            "\t\t\t\"Tue Oct 25 13:29:43 2005: ncks -d time,0,239 sresa1b_ncar_ccsm3_0_run1_200001_209912.nc /var/www/html/tmp/sresa1b_ncar_ccsm3_0_run1_200001_201912.nc\\n\",\n",
            "\t\t\t\"Thu Oct 20 10:47:50 2005: ncks -A -v va /data/brownmc/sresa1b/atm/mo/va/ncar_ccsm3_0/run1/sresa1b_ncar_ccsm3_0_run1_va_200001_209912.nc /data/brownmc/sresa1b/atm/mo/tas/ncar_ccsm3_0/run1/sresa1b_ncar_ccsm3_0_run1_200001_209912.nc\\n\",\n",
            "\t\t\t\"Wed Oct 19 14:55:04 2005: ncks -F -d time,01,1200 /data/brownmc/sresa1b/atm/mo/va/ncar_ccsm3_0/run1/sresa1b_ncar_ccsm3_0_run1_va_200001_209912.nc /data/brownmc/sresa1b/atm/mo/va/ncar_ccsm3_0/run1/sresa1b_ncar_ccsm3_0_run1_va_200001_209912.nc\\n\",\n",
            "\t\t\t\"Wed Oct 19 14:53:28 2005: ncrcat /data/brownmc/sresa1b/atm/mo/va/ncar_ccsm3_0/run1/foo_05_1200.nc /data/brownmc/sresa1b/atm/mo/va/ncar_ccsm3_0/run1/foo_1192_1196.nc /data/brownmc/sresa1b/atm/mo/va/ncar_ccsm3_0/run1/sresa1b_ncar_ccsm3_0_run1_va_200001_209912.nc\\n\",\n",
            "\t\t\t\"Wed Oct 19 14:50:38 2005: ncks -F -d time,05,1200 /data/brownmc/sresa1b/atm/mo/va/ncar_ccsm3_0/run1/va_A1.SRESA1B_1.CCSM.atmm.2000-01_cat_2099-12.nc /data/brownmc/sresa1b/atm/mo/va/ncar_ccsm3_0/run1/foo_05_1200.nc\\n\",\n",
            "\t\t\t\"Wed Oct 19 14:49:45 2005: ncrcat /data/brownmc/sresa1b/atm/mo/va/ncar_ccsm3_0/run1/va_A1.SRESA1B_1.CCSM.atmm.2000-01_cat_2079-12.nc /data/brownmc/sresa1b/atm/mo/va/ncar_ccsm3_0/run1/va_A1.SRESA1B_1.CCSM.atmm.2080-01_cat_2099-12.nc /data/brownmc/sresa1b/atm/mo/va/ncar_ccsm3_0/run1/va_A1.SRESA1B_1.CCSM.atmm.2000-01_cat_2099-12.nc\\n\",\n",
            "\t\t\t\"Created from CCSM3 case b30.040a\\n\",\n",
            "\t\t\t\" by wgstrand@ucar.edu\\n\",\n",
            "\t\t\t\" on Wed Nov 17 14:12:57 EST 2004\\n\",\n",
            "\t\t\t\" \\n\",\n",
            "\t\t\t\" For all data, added IPCC requested metadata\" ;\n",
            "\t\t:table_id = \"Table A1\" ;\n",
            "\t\t:title = \"model output prepared for IPCC AR4\" ;\n",
            "\t\t:institution = \"NCAR (National Center for Atmospheric \\n\",\n",
            "\t\t\t\"Research, Boulder, CO, USA)\" ;\n",
            "\t\t:source = \"CCSM3.0, version beta19 (2004): \\n\",\n",
            "\t\t\t\"atmosphere: CAM3.0, T85L26;\\n\",\n",
            "\t\t\t\"ocean     : POP1.4.3 (modified), gx1v3\\n\",\n",
            "\t\t\t\"sea ice   : CSIM5.0, T85;\\n\",\n",
            "\t\t\t\"land      : CLM3.0, gx1v3\" ;\n",
            "\t\t:contact = \"ccsm@ucar.edu\" ;\n",
            "\t\t:project_id = \"IPCC Fourth Assessment\" ;\n",
            "\t\t:Conventions = \"CF-1.0\" ;\n",
            "\t\t:references = \"Collins, W.D., et al., 2005:\\n\",\n",
            "\t\t\t\" The Community Climate System Model, Version 3\\n\",\n",
            "\t\t\t\" Journal of Climate\\n\",\n",
            "\t\t\t\" \\n\",\n",
            "\t\t\t\" Main website: http://www.ccsm.ucar.edu\" ;\n",
            "\t\t:acknowledgment = \" Any use of CCSM data should acknowledge the contribution\\n\",\n",
            "\t\t\t\" of the CCSM project and CCSM sponsor agencies with the \\n\",\n",
            "\t\t\t\" following citation:\\n\",\n",
            "\t\t\t\" \\'This research uses data provided by the Community Climate\\n\",\n",
            "\t\t\t\" System Model project (www.ccsm.ucar.edu), supported by the\\n\",\n",
            "\t\t\t\" Directorate for Geosciences of the National Science Foundation\\n\",\n",
            "\t\t\t\" and the Office of Biological and Environmental Research of\\n\",\n",
            "\t\t\t\" the U.S. Department of Energy.\\'\\n\",\n",
            "\t\t\t\"In addition, the words \\'Community Climate System Model\\' and\\n\",\n",
            "\t\t\t\" \\'CCSM\\' should be included as metadata for webpages referencing\\n\",\n",
            "\t\t\t\" work using CCSM data or as keywords provided to journal or book\\n\",\n",
            "\t\t\t\"publishers of your manuscripts.\\n\",\n",
            "\t\t\t\"Users of CCSM data accept the responsibility of emailing\\n\",\n",
            "\t\t\t\" citations of publications of research using CCSM data to\\n\",\n",
            "\t\t\t\" ccsm@ucar.edu.\\n\",\n",
            "\t\t\t\"Any redistribution of CCSM data must include this data\\n\",\n",
            "\t\t\t\" acknowledgement statement.\" ;\n",
            "\t\t:realization = 1 ;\n",
            "\t\t:experiment_id = \"720 ppm stabilization experiment (SRESA1B)\" ;\n",
            "\t\t:comment = \"This simulation was initiated from year 2000 of \\n\",\n",
            "\t\t\t\" CCSM3 model run b30.030a and executed on \\n\",\n",
            "\t\t\t\" hardware cheetah.ccs.ornl.gov. The input external forcings are\\n\",\n",
            "\t\t\t\"ozone forcing    : A1B.ozone.128x64_L18_1991-2100_c040528.nc\\n\",\n",
            "\t\t\t\"aerosol optics   : AerosolOptics_c040105.nc\\n\",\n",
            "\t\t\t\"aerosol MMR      : AerosolMass_V_128x256_clim_c031022.nc\\n\",\n",
            "\t\t\t\"carbon scaling   : carbonscaling_A1B_1990-2100_c040609.nc\\n\",\n",
            "\t\t\t\"solar forcing    : Fixed at 1366.5 W m-2\\n\",\n",
            "\t\t\t\"GHGs             : ghg_ipcc_A1B_1870-2100_c040521.nc\\n\",\n",
            "\t\t\t\"GHG loss rates   : noaamisc.r8.nc\\n\",\n",
            "\t\t\t\"volcanic forcing : none\\n\",\n",
            "\t\t\t\"DMS emissions    : DMS_emissions_128x256_clim_c040122.nc\\n\",\n",
            "\t\t\t\"oxidants         : oxid_128x256_L26_clim_c040112.nc\\n\",\n",
            "\t\t\t\"SOx emissions    : SOx_emissions_A1B_128x256_L2_1990-2100_c040608.nc\\n\",\n",
            "\t\t\t\" Physical constants used for derived data:\\n\",\n",
            "\t\t\t\" Lv (latent heat of evaporation): 2.501e6 J kg-1\\n\",\n",
            "\t\t\t\" Lf (latent heat of fusion     ): 3.337e5 J kg-1\\n\",\n",
            "\t\t\t\" r[h2o] (density of water      ): 1000 kg m-3\\n\",\n",
            "\t\t\t\" g2kg   (grams to kilograms    ): 1000 g kg-1\\n\",\n",
            "\t\t\t\" \\n\",\n",
            "\t\t\t\" Integrations were performed by NCAR and CRIEPI with support\\n\",\n",
            "\t\t\t\" and facilities provided by NSF, DOE, MEXT and ESC/JAMSTEC.\" ;\n",
            "\t\t:model_name_english = \"NCAR CCSM\" ;\n",
            "data:\n",
            "\n",
            " lat = -88.92773, -87.5387, -86.14147, -84.74239, -83.3426, -81.94247, \n",
            "    -80.54214, -79.14171, -77.7412, -76.34063, -74.94003, -73.53939, \n",
            "    -72.13873, -70.73806, -69.33737, -67.93668, -66.53596, -65.13525, \n",
            "    -63.73453, -62.3338, -60.93307, -59.53234, -58.1316, -56.73086, \n",
            "    -55.33011, -53.92937, -52.52862, -51.12786, -49.72712, -48.32636, \n",
            "    -46.92561, -45.52485, -44.12409, -42.72334, -41.32257, -39.92182, \n",
            "    -38.52106, -37.12029, -35.71953, -34.31877, -32.91801, -31.51724, \n",
            "    -30.11648, -28.71572, -27.31495, -25.91419, -24.51342, -23.11266, \n",
            "    -21.71189, -20.31112, -18.91036, -17.50959, -16.10882, -14.70806, \n",
            "    -13.30729, -11.90652, -10.50576, -9.104989, -7.704221, -6.303454, \n",
            "    -4.902687, -3.501919, -2.101151, -0.7003838, 0.7003838, 2.101151, \n",
            "    3.501919, 4.902687, 6.303454, 7.704221, 9.104989, 10.50576, 11.90652, \n",
            "    13.30729, 14.70806, 16.10882, 17.50959, 18.91036, 20.31112, 21.71189, \n",
            "    23.11266, 24.51342, 25.91419, 27.31495, 28.71572, 30.11648, 31.51724, \n",
            "    32.91801, 34.31877, 35.71953, 37.12029, 38.52106, 39.92182, 41.32257, \n",
            "    42.72334, 44.12409, 45.52485, 46.92561, 48.32636, 49.72712, 51.12786, \n",
            "    52.52862, 53.92937, 55.33011, 56.73086, 58.1316, 59.53234, 60.93307, \n",
            "    62.3338, 63.73453, 65.13525, 66.53596, 67.93668, 69.33737, 70.73806, \n",
            "    72.13873, 73.53939, 74.94003, 76.34063, 77.7412, 79.14171, 80.54214, \n",
            "    81.94247, 83.3426, 84.74239, 86.14147, 87.5387, 88.92773 ;\n",
            "\n",
            " lon = 0, 1.40625, 2.8125, 4.21875, 5.625, 7.03125, 8.4375, 9.84375, 11.25, \n",
            "    12.65625, 14.0625, 15.46875, 16.875, 18.28125, 19.6875, 21.09375, 22.5, \n",
            "    23.90625, 25.3125, 26.71875, 28.125, 29.53125, 30.9375, 32.34375, 33.75, \n",
            "    35.15625, 36.5625, 37.96875, 39.375, 40.78125, 42.1875, 43.59375, 45, \n",
            "    46.40625, 47.8125, 49.21875, 50.625, 52.03125, 53.4375, 54.84375, 56.25, \n",
            "    57.65625, 59.0625, 60.46875, 61.875, 63.28125, 64.6875, 66.09375, 67.5, \n",
            "    68.90625, 70.3125, 71.71875, 73.125, 74.53125, 75.9375, 77.34375, 78.75, \n",
            "    80.15625, 81.5625, 82.96875, 84.375, 85.78125, 87.1875, 88.59375, 90, \n",
            "    91.40625, 92.8125, 94.21875, 95.625, 97.03125, 98.4375, 99.84375, 101.25, \n",
            "    102.6562, 104.0625, 105.4688, 106.875, 108.2812, 109.6875, 111.0938, \n",
            "    112.5, 113.9062, 115.3125, 116.7188, 118.125, 119.5312, 120.9375, \n",
            "    122.3438, 123.75, 125.1562, 126.5625, 127.9688, 129.375, 130.7812, \n",
            "    132.1875, 133.5938, 135, 136.4062, 137.8125, 139.2188, 140.625, 142.0312, \n",
            "    143.4375, 144.8438, 146.25, 147.6562, 149.0625, 150.4688, 151.875, \n",
            "    153.2812, 154.6875, 156.0938, 157.5, 158.9062, 160.3125, 161.7188, \n",
            "    163.125, 164.5312, 165.9375, 167.3438, 168.75, 170.1562, 171.5625, \n",
            "    172.9688, 174.375, 175.7812, 177.1875, 178.5938, 180, 181.4062, 182.8125, \n",
            "    184.2188, 185.625, 187.0312, 188.4375, 189.8438, 191.25, 192.6562, \n",
            "    194.0625, 195.4688, 196.875, 198.2812, 199.6875, 201.0938, 202.5, \n",
            "    203.9062, 205.3125, 206.7188, 208.125, 209.5312, 210.9375, 212.3438, \n",
            "    213.75, 215.1562, 216.5625, 217.9688, 219.375, 220.7812, 222.1875, \n",
            "    223.5938, 225, 226.4062, 227.8125, 229.2188, 230.625, 232.0312, 233.4375, \n",
            "    234.8438, 236.25, 237.6562, 239.0625, 240.4688, 241.875, 243.2812, \n",
            "    244.6875, 246.0938, 247.5, 248.9062, 250.3125, 251.7188, 253.125, \n",
            "    254.5312, 255.9375, 257.3438, 258.75, 260.1562, 261.5625, 262.9688, \n",
            "    264.375, 265.7812, 267.1875, 268.5938, 270, 271.4062, 272.8125, 274.2188, \n",
            "    275.625, 277.0312, 278.4375, 279.8438, 281.25, 282.6562, 284.0625, \n",
            "    285.4688, 286.875, 288.2812, 289.6875, 291.0938, 292.5, 293.9062, \n",
            "    295.3125, 296.7188, 298.125, 299.5312, 300.9375, 302.3438, 303.75, \n",
            "    305.1562, 306.5625, 307.9688, 309.375, 310.7812, 312.1875, 313.5938, 315, \n",
            "    316.4062, 317.8125, 319.2188, 320.625, 322.0312, 323.4375, 324.8438, \n",
            "    326.25, 327.6562, 329.0625, 330.4688, 331.875, 333.2812, 334.6875, \n",
            "    336.0938, 337.5, 338.9062, 340.3125, 341.7188, 343.125, 344.5312, \n",
            "    345.9375, 347.3438, 348.75, 350.1562, 351.5625, 352.9688, 354.375, \n",
            "    355.7812, 357.1875, 358.5938 ;\n",
            "\n",
            " plev = 100000, 92500, 85000, 70000, 60000, 50000, 40000, 30000, 25000, \n",
            "    20000, 15000, 10000, 7000, 5000, 3000, 2000, 1000 ;\n",
            "\n",
            " time = \"2000-05-16 12\" ;\n",
            "}\n"
          ]
        }
      ]
    },
    {
      "cell_type": "code",
      "source": [],
      "metadata": {
        "id": "23mboSqEGjkh"
      },
      "execution_count": null,
      "outputs": []
    },
    {
      "cell_type": "code",
      "source": [],
      "metadata": {
        "id": "gG2jlXMuHXAC"
      },
      "execution_count": null,
      "outputs": []
    },
    {
      "cell_type": "code",
      "source": [
        "!apt-get install libproj-dev proj-data proj-bin\n",
        "!apt-get install libgeos-dev\n",
        "!pip install cython\n",
        "!pip install cartopy\n",
        "\n",
        "!apt-get -qq install python-cartopy python3-cartopy\n",
        "!pip uninstall -y shapely    # cartopy and shapely aren't friends (early 2020)\n",
        "!pip install shapely --no-binary shapely"
      ],
      "metadata": {
        "colab": {
          "base_uri": "https://localhost:8080/",
          "height": 1000
        },
        "id": "erug4NHkHW7J",
        "outputId": "5384135c-4acf-4884-a248-a9fde30a4eac"
      },
      "execution_count": null,
      "outputs": [
        {
          "output_type": "stream",
          "name": "stdout",
          "text": [
            "Reading package lists... Done\n",
            "Building dependency tree       \n",
            "Reading state information... Done\n",
            "libproj-dev is already the newest version (7.2.1-1~focal0).\n",
            "proj-bin is already the newest version (7.2.1-1~focal0).\n",
            "proj-data is already the newest version (7.2.1-1~focal0).\n",
            "0 upgraded, 0 newly installed, 0 to remove and 19 not upgraded.\n",
            "Reading package lists... Done\n",
            "Building dependency tree       \n",
            "Reading state information... Done\n",
            "libgeos-dev is already the newest version (3.9.1-1~focal0).\n",
            "0 upgraded, 0 newly installed, 0 to remove and 19 not upgraded.\n",
            "Looking in indexes: https://pypi.org/simple, https://us-python.pkg.dev/colab-wheels/public/simple/\n",
            "Requirement already satisfied: cython in /usr/local/lib/python3.8/dist-packages (0.29.33)\n",
            "Looking in indexes: https://pypi.org/simple, https://us-python.pkg.dev/colab-wheels/public/simple/\n",
            "Requirement already satisfied: cartopy in /usr/local/lib/python3.8/dist-packages (0.21.1)\n",
            "Requirement already satisfied: shapely>=1.6.4 in /usr/local/lib/python3.8/dist-packages (from cartopy) (1.8.5.post1)\n",
            "Requirement already satisfied: pyshp>=2.1 in /usr/local/lib/python3.8/dist-packages (from cartopy) (2.3.1)\n",
            "Requirement already satisfied: pyproj>=3.0.0 in /usr/local/lib/python3.8/dist-packages (from cartopy) (3.4.1)\n",
            "Requirement already satisfied: numpy>=1.18 in /usr/local/lib/python3.8/dist-packages (from cartopy) (1.22.4)\n",
            "Requirement already satisfied: matplotlib>=3.1 in /usr/local/lib/python3.8/dist-packages (from cartopy) (3.5.3)\n",
            "Requirement already satisfied: fonttools>=4.22.0 in /usr/local/lib/python3.8/dist-packages (from matplotlib>=3.1->cartopy) (4.38.0)\n",
            "Requirement already satisfied: cycler>=0.10 in /usr/local/lib/python3.8/dist-packages (from matplotlib>=3.1->cartopy) (0.11.0)\n",
            "Requirement already satisfied: pyparsing>=2.2.1 in /usr/local/lib/python3.8/dist-packages (from matplotlib>=3.1->cartopy) (3.0.9)\n",
            "Requirement already satisfied: python-dateutil>=2.7 in /usr/local/lib/python3.8/dist-packages (from matplotlib>=3.1->cartopy) (2.8.2)\n",
            "Requirement already satisfied: packaging>=20.0 in /usr/local/lib/python3.8/dist-packages (from matplotlib>=3.1->cartopy) (23.0)\n",
            "Requirement already satisfied: kiwisolver>=1.0.1 in /usr/local/lib/python3.8/dist-packages (from matplotlib>=3.1->cartopy) (1.4.4)\n",
            "Requirement already satisfied: pillow>=6.2.0 in /usr/local/lib/python3.8/dist-packages (from matplotlib>=3.1->cartopy) (8.4.0)\n",
            "Requirement already satisfied: certifi in /usr/local/lib/python3.8/dist-packages (from pyproj>=3.0.0->cartopy) (2022.12.7)\n",
            "Requirement already satisfied: six>=1.5 in /usr/local/lib/python3.8/dist-packages (from python-dateutil>=2.7->matplotlib>=3.1->cartopy) (1.15.0)\n",
            "E: Unable to locate package python-cartopy\n",
            "Found existing installation: Shapely 1.8.5.post1\n",
            "Uninstalling Shapely-1.8.5.post1:\n",
            "  Successfully uninstalled Shapely-1.8.5.post1\n",
            "Looking in indexes: https://pypi.org/simple, https://us-python.pkg.dev/colab-wheels/public/simple/\n",
            "Collecting shapely\n",
            "  Using cached shapely-2.0.1.tar.gz (275 kB)\n",
            "  Installing build dependencies ... \u001b[?25l\u001b[?25hdone\n",
            "  Getting requirements to build wheel ... \u001b[?25l\u001b[?25hdone\n",
            "  Installing backend dependencies ... \u001b[?25l\u001b[?25hdone\n",
            "  Preparing metadata (pyproject.toml) ... \u001b[?25l\u001b[?25hdone\n",
            "\u001b[33m  WARNING: Generating metadata for package shapely produced metadata for project name unknown. Fix your #egg=shapely fragments.\u001b[0m\u001b[33m\n",
            "\u001b[0mDiscarding \u001b[4;34mhttps://files.pythonhosted.org/packages/10/a7/de139da3ce303101c357a9ba801328cba85cf6ace157da31a4007bca85e4/shapely-2.0.1.tar.gz#sha256=66a6b1a3e72ece97fc85536a281476f9b7794de2e646ca8a4517e2e3c1446893 (from https://pypi.org/simple/shapely/) (requires-python:>=3.7)\u001b[0m: \u001b[33mRequested unknown from https://files.pythonhosted.org/packages/10/a7/de139da3ce303101c357a9ba801328cba85cf6ace157da31a4007bca85e4/shapely-2.0.1.tar.gz#sha256=66a6b1a3e72ece97fc85536a281476f9b7794de2e646ca8a4517e2e3c1446893 has inconsistent name: filename has 'shapely', but metadata has 'unknown'\u001b[0m\n",
            "  Using cached shapely-2.0.0.tar.gz (274 kB)\n",
            "  Installing build dependencies ... \u001b[?25l\u001b[?25hdone\n",
            "  Getting requirements to build wheel ... \u001b[?25l\u001b[?25hdone\n",
            "  Installing backend dependencies ... \u001b[?25l\u001b[?25hdone\n",
            "  Preparing metadata (pyproject.toml) ... \u001b[?25l\u001b[?25hdone\n",
            "\u001b[33m  WARNING: Generating metadata for package shapely produced metadata for project name unknown. Fix your #egg=shapely fragments.\u001b[0m\u001b[33m\n",
            "\u001b[0mDiscarding \u001b[4;34mhttps://files.pythonhosted.org/packages/61/76/6e635cc4ba33e8c170ef5934dad5c269dc5cb9607e878efb2aba12f78361/shapely-2.0.0.tar.gz#sha256=11f1b1231a6c04213fb1226c6968d1b1b3b369ec42d1e9655066af87631860ea (from https://pypi.org/simple/shapely/) (requires-python:>=3.7)\u001b[0m: \u001b[33mRequested unknown from https://files.pythonhosted.org/packages/61/76/6e635cc4ba33e8c170ef5934dad5c269dc5cb9607e878efb2aba12f78361/shapely-2.0.0.tar.gz#sha256=11f1b1231a6c04213fb1226c6968d1b1b3b369ec42d1e9655066af87631860ea has inconsistent name: filename has 'shapely', but metadata has 'unknown'\u001b[0m\n",
            "  Using cached Shapely-1.8.5.post1.tar.gz (200 kB)\n",
            "  Installing build dependencies ... \u001b[?25l\u001b[?25hdone\n",
            "\u001b[33m  WARNING: Missing build requirements in pyproject.toml for shapely from https://files.pythonhosted.org/packages/92/2e/a8bbe3c6b414c3c61c4b639ab16d5b1f9c4c4095817d417b503413e613c0/Shapely-1.8.5.post1.tar.gz#sha256=ef3be705c3eac282a28058e6c6e5503419b250f482320df2172abcbea642c831.\u001b[0m\u001b[33m\n",
            "\u001b[0m\u001b[33m  WARNING: The project does not specify a build backend, and pip cannot fall back to setuptools without 'wheel'.\u001b[0m\u001b[33m\n",
            "\u001b[0m  Getting requirements to build wheel ... \u001b[?25l\u001b[?25hdone\n",
            "  Installing backend dependencies ... \u001b[?25l\u001b[?25hdone\n",
            "  Preparing metadata (pyproject.toml) ... \u001b[?25l\u001b[?25hdone\n",
            "Building wheels for collected packages: shapely\n",
            "  Building wheel for shapely (pyproject.toml) ... \u001b[?25l\u001b[?25hdone\n",
            "  Created wheel for shapely: filename=Shapely-1.8.5.post1-cp38-cp38-linux_x86_64.whl size=971188 sha256=b930a5f315c7b09e68aba965be3ad86890d1924617be6fddfe5198bdfaef4836\n",
            "  Stored in directory: /root/.cache/pip/wheels/1e/b7/86/5badb596b4dcdcb8f0fa49a4b83e7d934681843c6dc406b16d\n",
            "Successfully built shapely\n",
            "Installing collected packages: shapely\n",
            "Successfully installed shapely-1.8.5.post1\n"
          ]
        },
        {
          "output_type": "display_data",
          "data": {
            "application/vnd.colab-display-data+json": {
              "pip_warning": {
                "packages": [
                  "shapely"
                ]
              }
            }
          },
          "metadata": {}
        }
      ]
    },
    {
      "cell_type": "code",
      "source": [
        "# Import necessary libraries\n",
        "import xarray as xr\n",
        "import numpy as np\n",
        "import matplotlib.pyplot as plt\n",
        "\n",
        "# Load NetCDF file\n",
        "ds = xr.open_dataset('/content/drive/MyDrive/Colab Notebooks/NetCDF project/sresa1b_ncar_ccsm3-example.nc')\n",
        "\n",
        "# Extract temperature data variable from the dataset\n",
        "temp = ds['tas']\n",
        "\n",
        "# Extract latitude and longitude coordinates from the dataset\n",
        "lat = ds['lat']\n",
        "lon = ds['lon']\n",
        "\n",
        "# Create a meshgrid of latitude and longitude coordinates\n",
        "lon_mesh, lat_mesh = np.meshgrid(lon, lat)\n",
        "\n",
        "# Plot the temperature data using pcolormesh function\n",
        "plt.pcolormesh(lon_mesh, lat_mesh, temp)\n",
        "plt.colorbar()\n",
        "plt.show()"
      ],
      "metadata": {
        "colab": {
          "base_uri": "https://localhost:8080/",
          "height": 632
        },
        "id": "qVRLBOpgHW2q",
        "outputId": "48022844-fdc3-41e9-b3de-f9b19365173f"
      },
      "execution_count": null,
      "outputs": [
        {
          "output_type": "error",
          "ename": "ValueError",
          "evalue": "ignored",
          "traceback": [
            "\u001b[0;31m---------------------------------------------------------------------------\u001b[0m",
            "\u001b[0;31mValueError\u001b[0m                                Traceback (most recent call last)",
            "\u001b[0;32m<ipython-input-7-92533ce60756>\u001b[0m in \u001b[0;36m<module>\u001b[0;34m\u001b[0m\n\u001b[1;32m     18\u001b[0m \u001b[0;34m\u001b[0m\u001b[0m\n\u001b[1;32m     19\u001b[0m \u001b[0;31m# Plot the temperature data using pcolormesh function\u001b[0m\u001b[0;34m\u001b[0m\u001b[0;34m\u001b[0m\u001b[0;34m\u001b[0m\u001b[0m\n\u001b[0;32m---> 20\u001b[0;31m \u001b[0mplt\u001b[0m\u001b[0;34m.\u001b[0m\u001b[0mpcolormesh\u001b[0m\u001b[0;34m(\u001b[0m\u001b[0mlon_mesh\u001b[0m\u001b[0;34m,\u001b[0m \u001b[0mlat_mesh\u001b[0m\u001b[0;34m,\u001b[0m \u001b[0mtemp\u001b[0m\u001b[0;34m)\u001b[0m\u001b[0;34m\u001b[0m\u001b[0;34m\u001b[0m\u001b[0m\n\u001b[0m\u001b[1;32m     21\u001b[0m \u001b[0mplt\u001b[0m\u001b[0;34m.\u001b[0m\u001b[0mcolorbar\u001b[0m\u001b[0;34m(\u001b[0m\u001b[0;34m)\u001b[0m\u001b[0;34m\u001b[0m\u001b[0;34m\u001b[0m\u001b[0m\n\u001b[1;32m     22\u001b[0m \u001b[0mplt\u001b[0m\u001b[0;34m.\u001b[0m\u001b[0mshow\u001b[0m\u001b[0;34m(\u001b[0m\u001b[0;34m)\u001b[0m\u001b[0;34m\u001b[0m\u001b[0;34m\u001b[0m\u001b[0m\n",
            "\u001b[0;32m/usr/local/lib/python3.8/dist-packages/matplotlib/pyplot.py\u001b[0m in \u001b[0;36mpcolormesh\u001b[0;34m(alpha, norm, cmap, vmin, vmax, shading, antialiased, data, *args, **kwargs)\u001b[0m\n\u001b[1;32m   2726\u001b[0m         \u001b[0mvmax\u001b[0m\u001b[0;34m=\u001b[0m\u001b[0;32mNone\u001b[0m\u001b[0;34m,\u001b[0m \u001b[0mshading\u001b[0m\u001b[0;34m=\u001b[0m\u001b[0;32mNone\u001b[0m\u001b[0;34m,\u001b[0m \u001b[0mantialiased\u001b[0m\u001b[0;34m=\u001b[0m\u001b[0;32mFalse\u001b[0m\u001b[0;34m,\u001b[0m \u001b[0mdata\u001b[0m\u001b[0;34m=\u001b[0m\u001b[0;32mNone\u001b[0m\u001b[0;34m,\u001b[0m\u001b[0;34m\u001b[0m\u001b[0;34m\u001b[0m\u001b[0m\n\u001b[1;32m   2727\u001b[0m         **kwargs):\n\u001b[0;32m-> 2728\u001b[0;31m     __ret = gca().pcolormesh(\n\u001b[0m\u001b[1;32m   2729\u001b[0m         \u001b[0;34m*\u001b[0m\u001b[0margs\u001b[0m\u001b[0;34m,\u001b[0m \u001b[0malpha\u001b[0m\u001b[0;34m=\u001b[0m\u001b[0malpha\u001b[0m\u001b[0;34m,\u001b[0m \u001b[0mnorm\u001b[0m\u001b[0;34m=\u001b[0m\u001b[0mnorm\u001b[0m\u001b[0;34m,\u001b[0m \u001b[0mcmap\u001b[0m\u001b[0;34m=\u001b[0m\u001b[0mcmap\u001b[0m\u001b[0;34m,\u001b[0m \u001b[0mvmin\u001b[0m\u001b[0;34m=\u001b[0m\u001b[0mvmin\u001b[0m\u001b[0;34m,\u001b[0m\u001b[0;34m\u001b[0m\u001b[0;34m\u001b[0m\u001b[0m\n\u001b[1;32m   2730\u001b[0m         \u001b[0mvmax\u001b[0m\u001b[0;34m=\u001b[0m\u001b[0mvmax\u001b[0m\u001b[0;34m,\u001b[0m \u001b[0mshading\u001b[0m\u001b[0;34m=\u001b[0m\u001b[0mshading\u001b[0m\u001b[0;34m,\u001b[0m \u001b[0mantialiased\u001b[0m\u001b[0;34m=\u001b[0m\u001b[0mantialiased\u001b[0m\u001b[0;34m,\u001b[0m\u001b[0;34m\u001b[0m\u001b[0;34m\u001b[0m\u001b[0m\n",
            "\u001b[0;32m/usr/local/lib/python3.8/dist-packages/matplotlib/__init__.py\u001b[0m in \u001b[0;36minner\u001b[0;34m(ax, data, *args, **kwargs)\u001b[0m\n\u001b[1;32m   1412\u001b[0m     \u001b[0;32mdef\u001b[0m \u001b[0minner\u001b[0m\u001b[0;34m(\u001b[0m\u001b[0max\u001b[0m\u001b[0;34m,\u001b[0m \u001b[0;34m*\u001b[0m\u001b[0margs\u001b[0m\u001b[0;34m,\u001b[0m \u001b[0mdata\u001b[0m\u001b[0;34m=\u001b[0m\u001b[0;32mNone\u001b[0m\u001b[0;34m,\u001b[0m \u001b[0;34m**\u001b[0m\u001b[0mkwargs\u001b[0m\u001b[0;34m)\u001b[0m\u001b[0;34m:\u001b[0m\u001b[0;34m\u001b[0m\u001b[0;34m\u001b[0m\u001b[0m\n\u001b[1;32m   1413\u001b[0m         \u001b[0;32mif\u001b[0m \u001b[0mdata\u001b[0m \u001b[0;32mis\u001b[0m \u001b[0;32mNone\u001b[0m\u001b[0;34m:\u001b[0m\u001b[0;34m\u001b[0m\u001b[0;34m\u001b[0m\u001b[0m\n\u001b[0;32m-> 1414\u001b[0;31m             \u001b[0;32mreturn\u001b[0m \u001b[0mfunc\u001b[0m\u001b[0;34m(\u001b[0m\u001b[0max\u001b[0m\u001b[0;34m,\u001b[0m \u001b[0;34m*\u001b[0m\u001b[0mmap\u001b[0m\u001b[0;34m(\u001b[0m\u001b[0msanitize_sequence\u001b[0m\u001b[0;34m,\u001b[0m \u001b[0margs\u001b[0m\u001b[0;34m)\u001b[0m\u001b[0;34m,\u001b[0m \u001b[0;34m**\u001b[0m\u001b[0mkwargs\u001b[0m\u001b[0;34m)\u001b[0m\u001b[0;34m\u001b[0m\u001b[0;34m\u001b[0m\u001b[0m\n\u001b[0m\u001b[1;32m   1415\u001b[0m \u001b[0;34m\u001b[0m\u001b[0m\n\u001b[1;32m   1416\u001b[0m         \u001b[0mbound\u001b[0m \u001b[0;34m=\u001b[0m \u001b[0mnew_sig\u001b[0m\u001b[0;34m.\u001b[0m\u001b[0mbind\u001b[0m\u001b[0;34m(\u001b[0m\u001b[0max\u001b[0m\u001b[0;34m,\u001b[0m \u001b[0;34m*\u001b[0m\u001b[0margs\u001b[0m\u001b[0;34m,\u001b[0m \u001b[0;34m**\u001b[0m\u001b[0mkwargs\u001b[0m\u001b[0;34m)\u001b[0m\u001b[0;34m\u001b[0m\u001b[0;34m\u001b[0m\u001b[0m\n",
            "\u001b[0;32m/usr/local/lib/python3.8/dist-packages/matplotlib/axes/_axes.py\u001b[0m in \u001b[0;36mpcolormesh\u001b[0;34m(self, alpha, norm, cmap, vmin, vmax, shading, antialiased, *args, **kwargs)\u001b[0m\n\u001b[1;32m   6062\u001b[0m         \u001b[0mkwargs\u001b[0m\u001b[0;34m.\u001b[0m\u001b[0msetdefault\u001b[0m\u001b[0;34m(\u001b[0m\u001b[0;34m'edgecolors'\u001b[0m\u001b[0;34m,\u001b[0m \u001b[0;34m'none'\u001b[0m\u001b[0;34m)\u001b[0m\u001b[0;34m\u001b[0m\u001b[0;34m\u001b[0m\u001b[0m\n\u001b[1;32m   6063\u001b[0m \u001b[0;34m\u001b[0m\u001b[0m\n\u001b[0;32m-> 6064\u001b[0;31m         X, Y, C, shading = self._pcolorargs('pcolormesh', *args,\n\u001b[0m\u001b[1;32m   6065\u001b[0m                                             shading=shading, kwargs=kwargs)\n\u001b[1;32m   6066\u001b[0m         \u001b[0mcoords\u001b[0m \u001b[0;34m=\u001b[0m \u001b[0mnp\u001b[0m\u001b[0;34m.\u001b[0m\u001b[0mstack\u001b[0m\u001b[0;34m(\u001b[0m\u001b[0;34m[\u001b[0m\u001b[0mX\u001b[0m\u001b[0;34m,\u001b[0m \u001b[0mY\u001b[0m\u001b[0;34m]\u001b[0m\u001b[0;34m,\u001b[0m \u001b[0maxis\u001b[0m\u001b[0;34m=\u001b[0m\u001b[0;34m-\u001b[0m\u001b[0;36m1\u001b[0m\u001b[0;34m)\u001b[0m\u001b[0;34m\u001b[0m\u001b[0;34m\u001b[0m\u001b[0m\n",
            "\u001b[0;32m/usr/local/lib/python3.8/dist-packages/matplotlib/axes/_axes.py\u001b[0m in \u001b[0;36m_pcolorargs\u001b[0;34m(self, funcname, shading, *args, **kwargs)\u001b[0m\n\u001b[1;32m   5547\u001b[0m                 \u001b[0;32mif\u001b[0m \u001b[0misinstance\u001b[0m\u001b[0;34m(\u001b[0m\u001b[0mY\u001b[0m\u001b[0;34m,\u001b[0m \u001b[0mnp\u001b[0m\u001b[0;34m.\u001b[0m\u001b[0mma\u001b[0m\u001b[0;34m.\u001b[0m\u001b[0mcore\u001b[0m\u001b[0;34m.\u001b[0m\u001b[0mMaskedArray\u001b[0m\u001b[0;34m)\u001b[0m\u001b[0;34m:\u001b[0m\u001b[0;34m\u001b[0m\u001b[0;34m\u001b[0m\u001b[0m\n\u001b[1;32m   5548\u001b[0m                     \u001b[0mY\u001b[0m \u001b[0;34m=\u001b[0m \u001b[0mY\u001b[0m\u001b[0;34m.\u001b[0m\u001b[0mdata\u001b[0m\u001b[0;34m\u001b[0m\u001b[0;34m\u001b[0m\u001b[0m\n\u001b[0;32m-> 5549\u001b[0;31m             \u001b[0mnrows\u001b[0m\u001b[0;34m,\u001b[0m \u001b[0mncols\u001b[0m \u001b[0;34m=\u001b[0m \u001b[0mC\u001b[0m\u001b[0;34m.\u001b[0m\u001b[0mshape\u001b[0m\u001b[0;34m\u001b[0m\u001b[0;34m\u001b[0m\u001b[0m\n\u001b[0m\u001b[1;32m   5550\u001b[0m         \u001b[0;32melse\u001b[0m\u001b[0;34m:\u001b[0m\u001b[0;34m\u001b[0m\u001b[0;34m\u001b[0m\u001b[0m\n\u001b[1;32m   5551\u001b[0m             raise TypeError(f'{funcname}() takes 1 or 3 positional arguments '\n",
            "\u001b[0;31mValueError\u001b[0m: too many values to unpack (expected 2)"
          ]
        },
        {
          "output_type": "display_data",
          "data": {
            "text/plain": [
              "<Figure size 432x288 with 1 Axes>"
            ],
            "image/png": "[encoded data removed]"
          },
          "metadata": {
            "needs_background": "light"
          }
        }
      ]
    },
    {
      "cell_type": "code",
      "source": [
        "\n",
        "\n",
        "!apt-get install libproj-dev proj-data proj-bin\n",
        "!apt-get install libgeos-dev\n",
        "!pip install cython\n",
        "!pip install cartopy\n",
        "\n",
        "!apt-get -qq install python-cartopy python3-cartopy\n",
        "!pip uninstall -y shapely    # cartopy and shapely aren't friends (early 2020)\n",
        "!pip install shapely --no-binary shapely"
      ],
      "metadata": {
        "colab": {
          "base_uri": "https://localhost:8080/"
        },
        "id": "YRAC9gnPHW0K",
        "outputId": "eaf36e4c-c7b4-4b28-ca5d-6036e842ffac"
      },
      "execution_count": null,
      "outputs": [
        {
          "output_type": "stream",
          "name": "stdout",
          "text": [
            "Reading package lists... Done\n",
            "Building dependency tree       \n",
            "Reading state information... Done\n",
            "libproj-dev is already the newest version (7.2.1-1~focal0).\n",
            "libproj-dev set to manually installed.\n",
            "proj-data is already the newest version (7.2.1-1~focal0).\n",
            "proj-data set to manually installed.\n",
            "The following NEW packages will be installed:\n",
            "  proj-bin\n",
            "0 upgraded, 1 newly installed, 0 to remove and 19 not upgraded.\n",
            "Need to get 170 kB of archives.\n",
            "After this operation, 485 kB of additional disk space will be used.\n",
            "Get:1 http://ppa.launchpad.net/ubuntugis/ppa/ubuntu focal/main amd64 proj-bin amd64 7.2.1-1~focal0 [170 kB]\n",
            "Fetched 170 kB in 0s (395 kB/s)\n",
            "Selecting previously unselected package proj-bin.\n",
            "(Reading database ... 128208 files and directories currently installed.)\n",
            "Preparing to unpack .../proj-bin_7.2.1-1~focal0_amd64.deb ...\n",
            "Unpacking proj-bin (7.2.1-1~focal0) ...\n",
            "Setting up proj-bin (7.2.1-1~focal0) ...\n",
            "Processing triggers for man-db (2.9.1-1) ...\n",
            "Reading package lists... Done\n",
            "Building dependency tree       \n",
            "Reading state information... Done\n",
            "libgeos-dev is already the newest version (3.9.1-1~focal0).\n",
            "libgeos-dev set to manually installed.\n",
            "0 upgraded, 0 newly installed, 0 to remove and 19 not upgraded.\n",
            "Looking in indexes: https://pypi.org/simple, https://us-python.pkg.dev/colab-wheels/public/simple/\n",
            "Requirement already satisfied: cython in /usr/local/lib/python3.8/dist-packages (0.29.33)\n",
            "Looking in indexes: https://pypi.org/simple, https://us-python.pkg.dev/colab-wheels/public/simple/\n",
            "Collecting cartopy\n",
            "  Downloading Cartopy-0.21.1.tar.gz (10.9 MB)\n",
            "\u001b[2K     \u001b[90m━━━━━━━━━━━━━━━━━━━━━━━━━━━━━━━━━━━━━━━━\u001b[0m \u001b[32m10.9/10.9 MB\u001b[0m \u001b[31m75.8 MB/s\u001b[0m eta \u001b[36m0:00:00\u001b[0m\n",
            "\u001b[?25h  Installing build dependencies ... \u001b[?25l\u001b[?25hdone\n",
            "  Getting requirements to build wheel ... \u001b[?25l\u001b[?25hdone\n",
            "  Preparing metadata (pyproject.toml) ... \u001b[?25l\u001b[?25hdone\n",
            "Requirement already satisfied: numpy>=1.18 in /usr/local/lib/python3.8/dist-packages (from cartopy) (1.22.4)\n",
            "Collecting pyproj>=3.0.0\n",
            "  Downloading pyproj-3.4.1-cp38-cp38-manylinux_2_17_x86_64.manylinux2014_x86_64.whl (7.8 MB)\n",
            "\u001b[2K     \u001b[90m━━━━━━━━━━━━━━━━━━━━━━━━━━━━━━━━━━━━━━━━\u001b[0m \u001b[32m7.8/7.8 MB\u001b[0m \u001b[31m19.1 MB/s\u001b[0m eta \u001b[36m0:00:00\u001b[0m\n",
            "\u001b[?25hRequirement already satisfied: matplotlib>=3.1 in /usr/local/lib/python3.8/dist-packages (from cartopy) (3.5.3)\n",
            "Collecting pyshp>=2.1\n",
            "  Downloading pyshp-2.3.1-py2.py3-none-any.whl (46 kB)\n",
            "\u001b[2K     \u001b[90m━━━━━━━━━━━━━━━━━━━━━━━━━━━━━━━━━━━━━━━━\u001b[0m \u001b[32m46.5/46.5 KB\u001b[0m \u001b[31m6.6 MB/s\u001b[0m eta \u001b[36m0:00:00\u001b[0m\n",
            "\u001b[?25hRequirement already satisfied: shapely>=1.6.4 in /usr/local/lib/python3.8/dist-packages (from cartopy) (2.0.1)\n",
            "Requirement already satisfied: python-dateutil>=2.7 in /usr/local/lib/python3.8/dist-packages (from matplotlib>=3.1->cartopy) (2.8.2)\n",
            "Requirement already satisfied: cycler>=0.10 in /usr/local/lib/python3.8/dist-packages (from matplotlib>=3.1->cartopy) (0.11.0)\n",
            "Requirement already satisfied: kiwisolver>=1.0.1 in /usr/local/lib/python3.8/dist-packages (from matplotlib>=3.1->cartopy) (1.4.4)\n",
            "Requirement already satisfied: pyparsing>=2.2.1 in /usr/local/lib/python3.8/dist-packages (from matplotlib>=3.1->cartopy) (3.0.9)\n",
            "Requirement already satisfied: packaging>=20.0 in /usr/local/lib/python3.8/dist-packages (from matplotlib>=3.1->cartopy) (23.0)\n",
            "Requirement already satisfied: pillow>=6.2.0 in /usr/local/lib/python3.8/dist-packages (from matplotlib>=3.1->cartopy) (8.4.0)\n",
            "Requirement already satisfied: fonttools>=4.22.0 in /usr/local/lib/python3.8/dist-packages (from matplotlib>=3.1->cartopy) (4.38.0)\n",
            "Requirement already satisfied: certifi in /usr/local/lib/python3.8/dist-packages (from pyproj>=3.0.0->cartopy) (2022.12.7)\n",
            "Requirement already satisfied: six>=1.5 in /usr/local/lib/python3.8/dist-packages (from python-dateutil>=2.7->matplotlib>=3.1->cartopy) (1.15.0)\n",
            "Building wheels for collected packages: cartopy\n",
            "  Building wheel for cartopy (pyproject.toml) ... \u001b[?25l\u001b[?25hdone\n",
            "  Created wheel for cartopy: filename=Cartopy-0.21.1-cp38-cp38-linux_x86_64.whl size=11127988 sha256=10da6c1630557578f0e7155eaaa2b96acd325381aaeb26901531c2c2f4c4760f\n",
            "  Stored in directory: /root/.cache/pip/wheels/7c/ff/6f/09e4aa53f4e67d6498ef1d33dd4ea9c8c165817b9ddcc31d28\n",
            "Successfully built cartopy\n",
            "Installing collected packages: pyshp, pyproj, cartopy\n",
            "Successfully installed cartopy-0.21.1 pyproj-3.4.1 pyshp-2.3.1\n",
            "E: Unable to locate package python-cartopy\n",
            "Found existing installation: shapely 2.0.1\n",
            "Uninstalling shapely-2.0.1:\n",
            "  Successfully uninstalled shapely-2.0.1\n",
            "Looking in indexes: https://pypi.org/simple, https://us-python.pkg.dev/colab-wheels/public/simple/\n",
            "Collecting shapely\n",
            "  Downloading shapely-2.0.1.tar.gz (275 kB)\n",
            "\u001b[2K     \u001b[90m━━━━━━━━━━━━━━━━━━━━━━━━━━━━━━━━━━━━━━\u001b[0m \u001b[32m275.5/275.5 KB\u001b[0m \u001b[31m17.8 MB/s\u001b[0m eta \u001b[36m0:00:00\u001b[0m\n",
            "\u001b[?25h  Installing build dependencies ... \u001b[?25l\u001b[?25hdone\n",
            "  Getting requirements to build wheel ... \u001b[?25l\u001b[?25hdone\n",
            "  Installing backend dependencies ... \u001b[?25l\u001b[?25hdone\n",
            "  Preparing metadata (pyproject.toml) ... \u001b[?25l\u001b[?25hdone\n",
            "\u001b[33m  WARNING: Generating metadata for package shapely produced metadata for project name unknown. Fix your #egg=shapely fragments.\u001b[0m\u001b[33m\n",
            "\u001b[0mDiscarding \u001b[4;34mhttps://files.pythonhosted.org/packages/10/a7/de139da3ce303101c357a9ba801328cba85cf6ace157da31a4007bca85e4/shapely-2.0.1.tar.gz#sha256=66a6b1a3e72ece97fc85536a281476f9b7794de2e646ca8a4517e2e3c1446893 (from https://pypi.org/simple/shapely/) (requires-python:>=3.7)\u001b[0m: \u001b[33mRequested unknown from https://files.pythonhosted.org/packages/10/a7/de139da3ce303101c357a9ba801328cba85cf6ace157da31a4007bca85e4/shapely-2.0.1.tar.gz#sha256=66a6b1a3e72ece97fc85536a281476f9b7794de2e646ca8a4517e2e3c1446893 has inconsistent name: filename has 'shapely', but metadata has 'unknown'\u001b[0m\n",
            "  Downloading shapely-2.0.0.tar.gz (274 kB)\n",
            "\u001b[2K     \u001b[90m━━━━━━━━━━━━━━━━━━━━━━━━━━━━━━━━━━━━━━\u001b[0m \u001b[32m274.5/274.5 KB\u001b[0m \u001b[31m32.0 MB/s\u001b[0m eta \u001b[36m0:00:00\u001b[0m\n",
            "\u001b[?25h  Installing build dependencies ... \u001b[?25l\u001b[?25hdone\n",
            "  Getting requirements to build wheel ... \u001b[?25l\u001b[?25hdone\n",
            "  Installing backend dependencies ... \u001b[?25l\u001b[?25hdone\n",
            "  Preparing metadata (pyproject.toml) ... \u001b[?25l\u001b[?25hdone\n",
            "\u001b[33m  WARNING: Generating metadata for package shapely produced metadata for project name unknown. Fix your #egg=shapely fragments.\u001b[0m\u001b[33m\n",
            "\u001b[0mDiscarding \u001b[4;34mhttps://files.pythonhosted.org/packages/61/76/6e635cc4ba33e8c170ef5934dad5c269dc5cb9607e878efb2aba12f78361/shapely-2.0.0.tar.gz#sha256=11f1b1231a6c04213fb1226c6968d1b1b3b369ec42d1e9655066af87631860ea (from https://pypi.org/simple/shapely/) (requires-python:>=3.7)\u001b[0m: \u001b[33mRequested unknown from https://files.pythonhosted.org/packages/61/76/6e635cc4ba33e8c170ef5934dad5c269dc5cb9607e878efb2aba12f78361/shapely-2.0.0.tar.gz#sha256=11f1b1231a6c04213fb1226c6968d1b1b3b369ec42d1e9655066af87631860ea has inconsistent name: filename has 'shapely', but metadata has 'unknown'\u001b[0m\n",
            "  Downloading Shapely-1.8.5.post1.tar.gz (200 kB)\n",
            "\u001b[2K     \u001b[90m━━━━━━━━━━━━━━━━━━━━━━━━━━━━━━━━━━━━━━\u001b[0m \u001b[32m200.9/200.9 KB\u001b[0m \u001b[31m20.7 MB/s\u001b[0m eta \u001b[36m0:00:00\u001b[0m\n",
            "\u001b[?25h  Installing build dependencies ... \u001b[?25l\u001b[?25hdone\n",
            "\u001b[33m  WARNING: Missing build requirements in pyproject.toml for shapely from https://files.pythonhosted.org/packages/92/2e/a8bbe3c6b414c3c61c4b639ab16d5b1f9c4c4095817d417b503413e613c0/Shapely-1.8.5.post1.tar.gz#sha256=ef3be705c3eac282a28058e6c6e5503419b250f482320df2172abcbea642c831.\u001b[0m\u001b[33m\n",
            "\u001b[0m\u001b[33m  WARNING: The project does not specify a build backend, and pip cannot fall back to setuptools without 'wheel'.\u001b[0m\u001b[33m\n",
            "\u001b[0m  Getting requirements to build wheel ... \u001b[?25l\u001b[?25hdone\n",
            "  Installing backend dependencies ... \u001b[?25l\u001b[?25hdone\n",
            "  Preparing metadata (pyproject.toml) ... \u001b[?25l\u001b[?25hdone\n",
            "Building wheels for collected packages: shapely\n",
            "  Building wheel for shapely (pyproject.toml) ... \u001b[?25l\u001b[?25hdone\n",
            "  Created wheel for shapely: filename=Shapely-1.8.5.post1-cp38-cp38-linux_x86_64.whl size=971160 sha256=3df8d8de7fd27effc84695e2c87c41a24a756b2ef7dd70da6553e104d1ea45ad\n",
            "  Stored in directory: /root/.cache/pip/wheels/1e/b7/86/5badb596b4dcdcb8f0fa49a4b83e7d934681843c6dc406b16d\n",
            "Successfully built shapely\n",
            "Installing collected packages: shapely\n",
            "Successfully installed shapely-1.8.5.post1\n"
          ]
        }
      ]
    },
    {
      "cell_type": "code",
      "source": [
        "import warnings \n",
        "warnings. filterwarnings(\"ignore\")\n",
        "\n",
        "\n",
        "import xarray as xr\n",
        "import numpy as np\n",
        "import cartopy.crs as ccrs\n",
        "import matplotlib.pyplot as plt\n",
        "\n",
        "# Load NetCDF file\n",
        "ds = xr.open_dataset('/content/drive/MyDrive/Colab Notebooks/NetCDF project/sresa1b_ncar_ccsm3-example.nc')\n",
        "\n",
        "# Extract temperature data variable from the dataset\n",
        "temp = ds['tas']\n",
        "\n",
        "# Extract latitude and longitude coordinates from the dataset\n",
        "lat = ds['lat']\n",
        "lon = ds['lon']\n",
        "\n",
        "# Create a figure and axis object with Cartopy projection\n",
        "fig = plt.figure(figsize=(10, 5))\n",
        "ax = plt.axes(projection=ccrs.PlateCarree())\n",
        "\n",
        "# Add coastlines and gridlines to the plot\n",
        "ax.coastlines()\n",
        "ax.gridlines()\n",
        "\n",
        "# Plot the temperature data using pcolormesh function\n",
        "im = ax.pcolormesh(lon, lat, temp, transform=ccrs.PlateCarree())\n",
        "\n",
        "# Add a color bar to the plot\n",
        "cbar = plt.colorbar(im)\n",
        "\n",
        "# Add a title to the plot\n",
        "plt.title('Temperature')\n",
        "\n",
        "# Show the plot\n",
        "plt.show()"
      ],
      "metadata": {
        "colab": {
          "base_uri": "https://localhost:8080/",
          "height": 666
        },
        "id": "tu-cd1dCHWxh",
        "outputId": "459b0bd6-f3ab-4a3a-ef4b-0d36c3f9ea5e"
      },
      "execution_count": null,
      "outputs": [
        {
          "output_type": "error",
          "ename": "ValueError",
          "evalue": "ignored",
          "traceback": [
            "\u001b[0;31m---------------------------------------------------------------------------\u001b[0m",
            "\u001b[0;31mValueError\u001b[0m                                Traceback (most recent call last)",
            "\u001b[0;32m<ipython-input-3-4aa2e6e0e0a1>\u001b[0m in \u001b[0;36m<module>\u001b[0;34m\u001b[0m\n\u001b[1;32m     27\u001b[0m \u001b[0;34m\u001b[0m\u001b[0m\n\u001b[1;32m     28\u001b[0m \u001b[0;31m# Plot the temperature data using pcolormesh function\u001b[0m\u001b[0;34m\u001b[0m\u001b[0;34m\u001b[0m\u001b[0;34m\u001b[0m\u001b[0m\n\u001b[0;32m---> 29\u001b[0;31m \u001b[0mim\u001b[0m \u001b[0;34m=\u001b[0m \u001b[0max\u001b[0m\u001b[0;34m.\u001b[0m\u001b[0mpcolormesh\u001b[0m\u001b[0;34m(\u001b[0m\u001b[0mlon\u001b[0m\u001b[0;34m,\u001b[0m \u001b[0mlat\u001b[0m\u001b[0;34m,\u001b[0m \u001b[0mtemp\u001b[0m\u001b[0;34m,\u001b[0m \u001b[0mtransform\u001b[0m\u001b[0;34m=\u001b[0m\u001b[0mccrs\u001b[0m\u001b[0;34m.\u001b[0m\u001b[0mPlateCarree\u001b[0m\u001b[0;34m(\u001b[0m\u001b[0;34m)\u001b[0m\u001b[0;34m)\u001b[0m\u001b[0;34m\u001b[0m\u001b[0;34m\u001b[0m\u001b[0m\n\u001b[0m\u001b[1;32m     30\u001b[0m \u001b[0;34m\u001b[0m\u001b[0m\n\u001b[1;32m     31\u001b[0m \u001b[0;31m# Add a color bar to the plot\u001b[0m\u001b[0;34m\u001b[0m\u001b[0;34m\u001b[0m\u001b[0;34m\u001b[0m\u001b[0m\n",
            "\u001b[0;32m/usr/local/lib/python3.8/dist-packages/cartopy/mpl/geoaxes.py\u001b[0m in \u001b[0;36mwrapper\u001b[0;34m(self, *args, **kwargs)\u001b[0m\n\u001b[1;32m    316\u001b[0m \u001b[0;34m\u001b[0m\u001b[0m\n\u001b[1;32m    317\u001b[0m         \u001b[0mkwargs\u001b[0m\u001b[0;34m[\u001b[0m\u001b[0;34m'transform'\u001b[0m\u001b[0;34m]\u001b[0m \u001b[0;34m=\u001b[0m \u001b[0mtransform\u001b[0m\u001b[0;34m\u001b[0m\u001b[0;34m\u001b[0m\u001b[0m\n\u001b[0;32m--> 318\u001b[0;31m         \u001b[0;32mreturn\u001b[0m \u001b[0mfunc\u001b[0m\u001b[0;34m(\u001b[0m\u001b[0mself\u001b[0m\u001b[0;34m,\u001b[0m \u001b[0;34m*\u001b[0m\u001b[0margs\u001b[0m\u001b[0;34m,\u001b[0m \u001b[0;34m**\u001b[0m\u001b[0mkwargs\u001b[0m\u001b[0;34m)\u001b[0m\u001b[0;34m\u001b[0m\u001b[0;34m\u001b[0m\u001b[0m\n\u001b[0m\u001b[1;32m    319\u001b[0m     \u001b[0;32mreturn\u001b[0m \u001b[0mwrapper\u001b[0m\u001b[0;34m\u001b[0m\u001b[0;34m\u001b[0m\u001b[0m\n\u001b[1;32m    320\u001b[0m \u001b[0;34m\u001b[0m\u001b[0m\n",
            "\u001b[0;32m/usr/local/lib/python3.8/dist-packages/cartopy/mpl/geoaxes.py\u001b[0m in \u001b[0;36mpcolormesh\u001b[0;34m(self, *args, **kwargs)\u001b[0m\n\u001b[1;32m   1782\u001b[0m         \u001b[0;31m# Add in an argument checker to handle Matplotlib's potential\u001b[0m\u001b[0;34m\u001b[0m\u001b[0;34m\u001b[0m\u001b[0;34m\u001b[0m\u001b[0m\n\u001b[1;32m   1783\u001b[0m         \u001b[0;31m# interpolation when coordinate wraps are involved\u001b[0m\u001b[0;34m\u001b[0m\u001b[0;34m\u001b[0m\u001b[0;34m\u001b[0m\u001b[0m\n\u001b[0;32m-> 1784\u001b[0;31m         \u001b[0margs\u001b[0m\u001b[0;34m,\u001b[0m \u001b[0mkwargs\u001b[0m \u001b[0;34m=\u001b[0m \u001b[0mself\u001b[0m\u001b[0;34m.\u001b[0m\u001b[0m_wrap_args\u001b[0m\u001b[0;34m(\u001b[0m\u001b[0;34m*\u001b[0m\u001b[0margs\u001b[0m\u001b[0;34m,\u001b[0m \u001b[0;34m**\u001b[0m\u001b[0mkwargs\u001b[0m\u001b[0;34m)\u001b[0m\u001b[0;34m\u001b[0m\u001b[0;34m\u001b[0m\u001b[0m\n\u001b[0m\u001b[1;32m   1785\u001b[0m         \u001b[0mresult\u001b[0m \u001b[0;34m=\u001b[0m \u001b[0msuper\u001b[0m\u001b[0;34m(\u001b[0m\u001b[0;34m)\u001b[0m\u001b[0;34m.\u001b[0m\u001b[0mpcolormesh\u001b[0m\u001b[0;34m(\u001b[0m\u001b[0;34m*\u001b[0m\u001b[0margs\u001b[0m\u001b[0;34m,\u001b[0m \u001b[0;34m**\u001b[0m\u001b[0mkwargs\u001b[0m\u001b[0;34m)\u001b[0m\u001b[0;34m\u001b[0m\u001b[0;34m\u001b[0m\u001b[0m\n\u001b[1;32m   1786\u001b[0m         \u001b[0;31m# Wrap the quadrilaterals if necessary\u001b[0m\u001b[0;34m\u001b[0m\u001b[0;34m\u001b[0m\u001b[0;34m\u001b[0m\u001b[0m\n",
            "\u001b[0;32m/usr/local/lib/python3.8/dist-packages/cartopy/mpl/geoaxes.py\u001b[0m in \u001b[0;36m_wrap_args\u001b[0;34m(self, *args, **kwargs)\u001b[0m\n\u001b[1;32m   1811\u001b[0m         \u001b[0mX\u001b[0m \u001b[0;34m=\u001b[0m \u001b[0mnp\u001b[0m\u001b[0;34m.\u001b[0m\u001b[0masanyarray\u001b[0m\u001b[0;34m(\u001b[0m\u001b[0margs\u001b[0m\u001b[0;34m[\u001b[0m\u001b[0;36m0\u001b[0m\u001b[0;34m]\u001b[0m\u001b[0;34m)\u001b[0m\u001b[0;34m\u001b[0m\u001b[0;34m\u001b[0m\u001b[0m\n\u001b[1;32m   1812\u001b[0m         \u001b[0mY\u001b[0m \u001b[0;34m=\u001b[0m \u001b[0mnp\u001b[0m\u001b[0;34m.\u001b[0m\u001b[0masanyarray\u001b[0m\u001b[0;34m(\u001b[0m\u001b[0margs\u001b[0m\u001b[0;34m[\u001b[0m\u001b[0;36m1\u001b[0m\u001b[0;34m]\u001b[0m\u001b[0;34m)\u001b[0m\u001b[0;34m\u001b[0m\u001b[0;34m\u001b[0m\u001b[0m\n\u001b[0;32m-> 1813\u001b[0;31m         \u001b[0mnrows\u001b[0m\u001b[0;34m,\u001b[0m \u001b[0mncols\u001b[0m \u001b[0;34m=\u001b[0m \u001b[0mnp\u001b[0m\u001b[0;34m.\u001b[0m\u001b[0masanyarray\u001b[0m\u001b[0;34m(\u001b[0m\u001b[0margs\u001b[0m\u001b[0;34m[\u001b[0m\u001b[0;36m2\u001b[0m\u001b[0;34m]\u001b[0m\u001b[0;34m)\u001b[0m\u001b[0;34m.\u001b[0m\u001b[0mshape\u001b[0m\u001b[0;34m\u001b[0m\u001b[0;34m\u001b[0m\u001b[0m\n\u001b[0m\u001b[1;32m   1814\u001b[0m         \u001b[0mNx\u001b[0m \u001b[0;34m=\u001b[0m \u001b[0mX\u001b[0m\u001b[0;34m.\u001b[0m\u001b[0mshape\u001b[0m\u001b[0;34m[\u001b[0m\u001b[0;34m-\u001b[0m\u001b[0;36m1\u001b[0m\u001b[0;34m]\u001b[0m\u001b[0;34m\u001b[0m\u001b[0;34m\u001b[0m\u001b[0m\n\u001b[1;32m   1815\u001b[0m         \u001b[0mNy\u001b[0m \u001b[0;34m=\u001b[0m \u001b[0mY\u001b[0m\u001b[0;34m.\u001b[0m\u001b[0mshape\u001b[0m\u001b[0;34m[\u001b[0m\u001b[0;36m0\u001b[0m\u001b[0;34m]\u001b[0m\u001b[0;34m\u001b[0m\u001b[0;34m\u001b[0m\u001b[0m\n",
            "\u001b[0;31mValueError\u001b[0m: too many values to unpack (expected 2)"
          ]
        },
        {
          "output_type": "display_data",
          "data": {
            "text/plain": [
              "<Figure size 720x360 with 1 Axes>"
            ],
            "image/png": "[encoded data removed]"
          },
          "metadata": {
            "needs_background": "light"
          }
        }
      ]
    },
    {
      "cell_type": "code",
      "source": [],
      "metadata": {
        "id": "Nk4iZWiSHWup"
      },
      "execution_count": null,
      "outputs": []
    },
    {
      "cell_type": "markdown",
      "source": [
        "## 2011 Unidata NetCDF Workshop\n",
        "https://www.unidata.ucar.edu/software/netcdf/workshops/2011/index.html"
      ],
      "metadata": {
        "id": "A0fZ_alTB6D5"
      }
    },
    {
      "cell_type": "code",
      "source": [],
      "metadata": {
        "id": "7uc100OmhlU-"
      },
      "execution_count": null,
      "outputs": []
    }
  ]
}